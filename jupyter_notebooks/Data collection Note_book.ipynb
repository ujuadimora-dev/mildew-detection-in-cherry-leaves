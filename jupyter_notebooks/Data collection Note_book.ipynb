{
 "cells": [
  {
   "cell_type": "markdown",
   "metadata": {
    "id": "0aStgWSO0E0E"
   },
   "source": [
    "# **(Data Collection)**"
   ]
  },
  {
   "cell_type": "markdown",
   "metadata": {
    "id": "1eLEkw5O0ECa"
   },
   "source": [
    "## Objectives\n",
    "\n",
    "*Fetch data from Kaggle and prepare it for further processes\n",
    "\n",
    "## Inputs\n",
    "\n",
    "* Kaggle JSON file - the authentication token\n",
    "\n",
    "## Outputs\n",
    "\n",
    "* Generate Dataset: inputs/cherry_dataset/cherry-leaves\n",
    "\n",
    "\n"
   ]
  },
  {
   "cell_type": "markdown",
   "metadata": {
    "id": "9uWZXH9LwoQg"
   },
   "source": [
    "---"
   ]
  },
  {
   "cell_type": "markdown",
   "metadata": {},
   "source": [
    "# Import Packages required"
   ]
  },
  {
   "cell_type": "code",
   "execution_count": 2,
   "metadata": {},
   "outputs": [
    {
     "name": "stdout",
     "output_type": "stream",
     "text": [
      "Requirement already satisfied: numpy==1.19.2 in /home/codeany/.local/lib/python3.8/site-packages (from -r /workspaces/mildew-detection-in-cherry-leaves/requirements.txt (line 1)) (1.19.2)\n",
      "Requirement already satisfied: pandas==1.1.2 in /home/codeany/.local/lib/python3.8/site-packages (from -r /workspaces/mildew-detection-in-cherry-leaves/requirements.txt (line 2)) (1.1.2)\n",
      "Requirement already satisfied: matplotlib==3.3.1 in /home/codeany/.local/lib/python3.8/site-packages (from -r /workspaces/mildew-detection-in-cherry-leaves/requirements.txt (line 3)) (3.3.1)\n",
      "Requirement already satisfied: seaborn==0.11.0 in /home/codeany/.local/lib/python3.8/site-packages (from -r /workspaces/mildew-detection-in-cherry-leaves/requirements.txt (line 4)) (0.11.0)\n",
      "Requirement already satisfied: plotly==4.12.0 in /home/codeany/.local/lib/python3.8/site-packages (from -r /workspaces/mildew-detection-in-cherry-leaves/requirements.txt (line 5)) (4.12.0)\n",
      "Requirement already satisfied: streamlit==0.85.0 in /home/codeany/.local/lib/python3.8/site-packages (from -r /workspaces/mildew-detection-in-cherry-leaves/requirements.txt (line 7)) (0.85.0)\n",
      "Requirement already satisfied: scikit-learn==0.24.2 in /home/codeany/.local/lib/python3.8/site-packages (from -r /workspaces/mildew-detection-in-cherry-leaves/requirements.txt (line 9)) (0.24.2)\n",
      "Requirement already satisfied: tensorflow-cpu==2.6.0 in /home/codeany/.local/lib/python3.8/site-packages (from -r /workspaces/mildew-detection-in-cherry-leaves/requirements.txt (line 10)) (2.6.0)\n",
      "Requirement already satisfied: keras==2.6.0 in /home/codeany/.local/lib/python3.8/site-packages (from -r /workspaces/mildew-detection-in-cherry-leaves/requirements.txt (line 11)) (2.6.0)\n",
      "Requirement already satisfied: protobuf==3.20 in /home/codeany/.local/lib/python3.8/site-packages (from -r /workspaces/mildew-detection-in-cherry-leaves/requirements.txt (line 12)) (3.20.0)\n",
      "Requirement already satisfied: altair<5 in /home/codeany/.local/lib/python3.8/site-packages (from -r /workspaces/mildew-detection-in-cherry-leaves/requirements.txt (line 13)) (4.2.2)\n",
      "Requirement already satisfied: python-dateutil>=2.7.3 in /home/codeany/.pyenv/versions/3.8.12/lib/python3.8/site-packages (from pandas==1.1.2->-r /workspaces/mildew-detection-in-cherry-leaves/requirements.txt (line 2)) (2.8.2)\n",
      "Requirement already satisfied: pytz>=2017.2 in /home/codeany/.pyenv/versions/3.8.12/lib/python3.8/site-packages (from pandas==1.1.2->-r /workspaces/mildew-detection-in-cherry-leaves/requirements.txt (line 2)) (2023.3.post1)\n",
      "Requirement already satisfied: certifi>=2020.06.20 in /home/codeany/.pyenv/versions/3.8.12/lib/python3.8/site-packages (from matplotlib==3.3.1->-r /workspaces/mildew-detection-in-cherry-leaves/requirements.txt (line 3)) (2023.7.22)\n",
      "Requirement already satisfied: cycler>=0.10 in /home/codeany/.local/lib/python3.8/site-packages (from matplotlib==3.3.1->-r /workspaces/mildew-detection-in-cherry-leaves/requirements.txt (line 3)) (0.12.1)\n",
      "Requirement already satisfied: kiwisolver>=1.0.1 in /home/codeany/.local/lib/python3.8/site-packages (from matplotlib==3.3.1->-r /workspaces/mildew-detection-in-cherry-leaves/requirements.txt (line 3)) (1.4.5)\n",
      "Requirement already satisfied: pillow>=6.2.0 in /home/codeany/.local/lib/python3.8/site-packages (from matplotlib==3.3.1->-r /workspaces/mildew-detection-in-cherry-leaves/requirements.txt (line 3)) (10.1.0)\n",
      "Requirement already satisfied: pyparsing!=2.0.4,!=2.1.2,!=2.1.6,>=2.0.3 in /home/codeany/.local/lib/python3.8/site-packages (from matplotlib==3.3.1->-r /workspaces/mildew-detection-in-cherry-leaves/requirements.txt (line 3)) (3.1.1)\n",
      "Requirement already satisfied: scipy>=1.0 in /home/codeany/.local/lib/python3.8/site-packages (from seaborn==0.11.0->-r /workspaces/mildew-detection-in-cherry-leaves/requirements.txt (line 4)) (1.9.3)\n",
      "Requirement already satisfied: retrying>=1.3.3 in /home/codeany/.local/lib/python3.8/site-packages (from plotly==4.12.0->-r /workspaces/mildew-detection-in-cherry-leaves/requirements.txt (line 5)) (1.3.4)\n",
      "Requirement already satisfied: six in /home/codeany/.local/lib/python3.8/site-packages (from plotly==4.12.0->-r /workspaces/mildew-detection-in-cherry-leaves/requirements.txt (line 5)) (1.15.0)\n",
      "Requirement already satisfied: astor in /home/codeany/.local/lib/python3.8/site-packages (from streamlit==0.85.0->-r /workspaces/mildew-detection-in-cherry-leaves/requirements.txt (line 7)) (0.8.1)\n",
      "Requirement already satisfied: attrs in /home/codeany/.pyenv/versions/3.8.12/lib/python3.8/site-packages (from streamlit==0.85.0->-r /workspaces/mildew-detection-in-cherry-leaves/requirements.txt (line 7)) (23.1.0)\n",
      "Requirement already satisfied: base58 in /home/codeany/.local/lib/python3.8/site-packages (from streamlit==0.85.0->-r /workspaces/mildew-detection-in-cherry-leaves/requirements.txt (line 7)) (2.1.1)\n",
      "Requirement already satisfied: blinker in /home/codeany/.local/lib/python3.8/site-packages (from streamlit==0.85.0->-r /workspaces/mildew-detection-in-cherry-leaves/requirements.txt (line 7)) (1.6.3)\n",
      "Requirement already satisfied: cachetools>=4.0 in /home/codeany/.local/lib/python3.8/site-packages (from streamlit==0.85.0->-r /workspaces/mildew-detection-in-cherry-leaves/requirements.txt (line 7)) (5.3.2)\n",
      "Requirement already satisfied: click<8.0,>=7.0 in /home/codeany/.local/lib/python3.8/site-packages (from streamlit==0.85.0->-r /workspaces/mildew-detection-in-cherry-leaves/requirements.txt (line 7)) (7.1.2)\n",
      "Requirement already satisfied: packaging in /home/codeany/.pyenv/versions/3.8.12/lib/python3.8/site-packages (from streamlit==0.85.0->-r /workspaces/mildew-detection-in-cherry-leaves/requirements.txt (line 7)) (23.2)\n",
      "Requirement already satisfied: pyarrow in /home/codeany/.local/lib/python3.8/site-packages (from streamlit==0.85.0->-r /workspaces/mildew-detection-in-cherry-leaves/requirements.txt (line 7)) (13.0.0)\n",
      "Requirement already satisfied: pydeck>=0.1.dev5 in /home/codeany/.local/lib/python3.8/site-packages (from streamlit==0.85.0->-r /workspaces/mildew-detection-in-cherry-leaves/requirements.txt (line 7)) (0.8.1b0)\n",
      "Requirement already satisfied: requests in /home/codeany/.pyenv/versions/3.8.12/lib/python3.8/site-packages (from streamlit==0.85.0->-r /workspaces/mildew-detection-in-cherry-leaves/requirements.txt (line 7)) (2.31.0)\n",
      "Requirement already satisfied: toml in /home/codeany/.local/lib/python3.8/site-packages (from streamlit==0.85.0->-r /workspaces/mildew-detection-in-cherry-leaves/requirements.txt (line 7)) (0.10.2)\n",
      "Requirement already satisfied: tornado>=5.0 in /home/codeany/.pyenv/versions/3.8.12/lib/python3.8/site-packages (from streamlit==0.85.0->-r /workspaces/mildew-detection-in-cherry-leaves/requirements.txt (line 7)) (6.3.3)\n",
      "Requirement already satisfied: tzlocal in /home/codeany/.local/lib/python3.8/site-packages (from streamlit==0.85.0->-r /workspaces/mildew-detection-in-cherry-leaves/requirements.txt (line 7)) (5.2)\n",
      "Requirement already satisfied: validators in /home/codeany/.local/lib/python3.8/site-packages (from streamlit==0.85.0->-r /workspaces/mildew-detection-in-cherry-leaves/requirements.txt (line 7)) (0.22.0)\n",
      "Requirement already satisfied: gitpython in /home/codeany/.pyenv/versions/3.8.12/lib/python3.8/site-packages (from streamlit==0.85.0->-r /workspaces/mildew-detection-in-cherry-leaves/requirements.txt (line 7)) (3.1.40)\n",
      "Requirement already satisfied: watchdog in /home/codeany/.local/lib/python3.8/site-packages (from streamlit==0.85.0->-r /workspaces/mildew-detection-in-cherry-leaves/requirements.txt (line 7)) (3.0.0)\n",
      "Requirement already satisfied: joblib>=0.11 in /home/codeany/.local/lib/python3.8/site-packages (from scikit-learn==0.24.2->-r /workspaces/mildew-detection-in-cherry-leaves/requirements.txt (line 9)) (1.3.2)\n",
      "Requirement already satisfied: threadpoolctl>=2.0.0 in /home/codeany/.local/lib/python3.8/site-packages (from scikit-learn==0.24.2->-r /workspaces/mildew-detection-in-cherry-leaves/requirements.txt (line 9)) (3.2.0)\n",
      "Requirement already satisfied: absl-py~=0.10 in /home/codeany/.local/lib/python3.8/site-packages (from tensorflow-cpu==2.6.0->-r /workspaces/mildew-detection-in-cherry-leaves/requirements.txt (line 10)) (0.15.0)\n",
      "Requirement already satisfied: astunparse~=1.6.3 in /home/codeany/.local/lib/python3.8/site-packages (from tensorflow-cpu==2.6.0->-r /workspaces/mildew-detection-in-cherry-leaves/requirements.txt (line 10)) (1.6.3)\n",
      "Requirement already satisfied: clang~=5.0 in /home/codeany/.local/lib/python3.8/site-packages (from tensorflow-cpu==2.6.0->-r /workspaces/mildew-detection-in-cherry-leaves/requirements.txt (line 10)) (5.0)\n",
      "Requirement already satisfied: flatbuffers~=1.12.0 in /home/codeany/.local/lib/python3.8/site-packages (from tensorflow-cpu==2.6.0->-r /workspaces/mildew-detection-in-cherry-leaves/requirements.txt (line 10)) (1.12)\n",
      "Requirement already satisfied: google-pasta~=0.2 in /home/codeany/.local/lib/python3.8/site-packages (from tensorflow-cpu==2.6.0->-r /workspaces/mildew-detection-in-cherry-leaves/requirements.txt (line 10)) (0.2.0)\n",
      "Requirement already satisfied: h5py~=3.1.0 in /home/codeany/.local/lib/python3.8/site-packages (from tensorflow-cpu==2.6.0->-r /workspaces/mildew-detection-in-cherry-leaves/requirements.txt (line 10)) (3.1.0)\n",
      "Requirement already satisfied: keras-preprocessing~=1.1.2 in /home/codeany/.local/lib/python3.8/site-packages (from tensorflow-cpu==2.6.0->-r /workspaces/mildew-detection-in-cherry-leaves/requirements.txt (line 10)) (1.1.2)\n",
      "Requirement already satisfied: opt-einsum~=3.3.0 in /home/codeany/.local/lib/python3.8/site-packages (from tensorflow-cpu==2.6.0->-r /workspaces/mildew-detection-in-cherry-leaves/requirements.txt (line 10)) (3.3.0)\n",
      "Requirement already satisfied: termcolor~=1.1.0 in /home/codeany/.local/lib/python3.8/site-packages (from tensorflow-cpu==2.6.0->-r /workspaces/mildew-detection-in-cherry-leaves/requirements.txt (line 10)) (1.1.0)\n",
      "Collecting typing-extensions~=3.7.4 (from tensorflow-cpu==2.6.0->-r /workspaces/mildew-detection-in-cherry-leaves/requirements.txt (line 10))\n",
      "  Using cached typing_extensions-3.7.4.3-py3-none-any.whl (22 kB)\n",
      "Requirement already satisfied: wheel~=0.35 in /home/codeany/.pyenv/versions/3.8.12/lib/python3.8/site-packages (from tensorflow-cpu==2.6.0->-r /workspaces/mildew-detection-in-cherry-leaves/requirements.txt (line 10)) (0.41.2)\n",
      "Requirement already satisfied: wrapt~=1.12.1 in /home/codeany/.local/lib/python3.8/site-packages (from tensorflow-cpu==2.6.0->-r /workspaces/mildew-detection-in-cherry-leaves/requirements.txt (line 10)) (1.12.1)\n",
      "Requirement already satisfied: gast==0.4.0 in /home/codeany/.local/lib/python3.8/site-packages (from tensorflow-cpu==2.6.0->-r /workspaces/mildew-detection-in-cherry-leaves/requirements.txt (line 10)) (0.4.0)\n",
      "Requirement already satisfied: tensorboard~=2.6 in /home/codeany/.local/lib/python3.8/site-packages (from tensorflow-cpu==2.6.0->-r /workspaces/mildew-detection-in-cherry-leaves/requirements.txt (line 10)) (2.14.0)\n",
      "Requirement already satisfied: tensorflow-estimator~=2.6 in /home/codeany/.local/lib/python3.8/site-packages (from tensorflow-cpu==2.6.0->-r /workspaces/mildew-detection-in-cherry-leaves/requirements.txt (line 10)) (2.14.0)\n",
      "Requirement already satisfied: grpcio<2.0,>=1.37.0 in /home/codeany/.local/lib/python3.8/site-packages (from tensorflow-cpu==2.6.0->-r /workspaces/mildew-detection-in-cherry-leaves/requirements.txt (line 10)) (1.59.0)\n",
      "Requirement already satisfied: entrypoints in /home/codeany/.local/lib/python3.8/site-packages (from altair<5->-r /workspaces/mildew-detection-in-cherry-leaves/requirements.txt (line 13)) (0.4)\n",
      "Requirement already satisfied: jinja2 in /home/codeany/.pyenv/versions/3.8.12/lib/python3.8/site-packages (from altair<5->-r /workspaces/mildew-detection-in-cherry-leaves/requirements.txt (line 13)) (3.1.2)\n",
      "Requirement already satisfied: jsonschema>=3.0 in /home/codeany/.pyenv/versions/3.8.12/lib/python3.8/site-packages (from altair<5->-r /workspaces/mildew-detection-in-cherry-leaves/requirements.txt (line 13)) (4.19.1)\n",
      "Requirement already satisfied: toolz in /home/codeany/.local/lib/python3.8/site-packages (from altair<5->-r /workspaces/mildew-detection-in-cherry-leaves/requirements.txt (line 13)) (0.12.0)\n",
      "Requirement already satisfied: importlib-resources>=1.4.0 in /home/codeany/.pyenv/versions/3.8.12/lib/python3.8/site-packages (from jsonschema>=3.0->altair<5->-r /workspaces/mildew-detection-in-cherry-leaves/requirements.txt (line 13)) (6.1.0)\n",
      "Requirement already satisfied: jsonschema-specifications>=2023.03.6 in /home/codeany/.pyenv/versions/3.8.12/lib/python3.8/site-packages (from jsonschema>=3.0->altair<5->-r /workspaces/mildew-detection-in-cherry-leaves/requirements.txt (line 13)) (2023.7.1)\n",
      "Requirement already satisfied: pkgutil-resolve-name>=1.3.10 in /home/codeany/.pyenv/versions/3.8.12/lib/python3.8/site-packages (from jsonschema>=3.0->altair<5->-r /workspaces/mildew-detection-in-cherry-leaves/requirements.txt (line 13)) (1.3.10)\n",
      "Requirement already satisfied: referencing>=0.28.4 in /home/codeany/.pyenv/versions/3.8.12/lib/python3.8/site-packages (from jsonschema>=3.0->altair<5->-r /workspaces/mildew-detection-in-cherry-leaves/requirements.txt (line 13)) (0.30.2)\n",
      "Requirement already satisfied: rpds-py>=0.7.1 in /home/codeany/.pyenv/versions/3.8.12/lib/python3.8/site-packages (from jsonschema>=3.0->altair<5->-r /workspaces/mildew-detection-in-cherry-leaves/requirements.txt (line 13)) (0.10.6)\n",
      "Requirement already satisfied: MarkupSafe>=2.0 in /home/codeany/.pyenv/versions/3.8.12/lib/python3.8/site-packages (from jinja2->altair<5->-r /workspaces/mildew-detection-in-cherry-leaves/requirements.txt (line 13)) (2.1.3)\n",
      "Requirement already satisfied: google-auth<3,>=1.6.3 in /home/codeany/.local/lib/python3.8/site-packages (from tensorboard~=2.6->tensorflow-cpu==2.6.0->-r /workspaces/mildew-detection-in-cherry-leaves/requirements.txt (line 10)) (2.23.3)\n",
      "Requirement already satisfied: google-auth-oauthlib<1.1,>=0.5 in /home/codeany/.local/lib/python3.8/site-packages (from tensorboard~=2.6->tensorflow-cpu==2.6.0->-r /workspaces/mildew-detection-in-cherry-leaves/requirements.txt (line 10)) (1.0.0)\n",
      "Requirement already satisfied: markdown>=2.6.8 in /home/codeany/.local/lib/python3.8/site-packages (from tensorboard~=2.6->tensorflow-cpu==2.6.0->-r /workspaces/mildew-detection-in-cherry-leaves/requirements.txt (line 10)) (3.5)\n",
      "Requirement already satisfied: setuptools>=41.0.0 in /home/codeany/.pyenv/versions/3.8.12/lib/python3.8/site-packages (from tensorboard~=2.6->tensorflow-cpu==2.6.0->-r /workspaces/mildew-detection-in-cherry-leaves/requirements.txt (line 10)) (68.2.2)\n",
      "Requirement already satisfied: tensorboard-data-server<0.8.0,>=0.7.0 in /home/codeany/.local/lib/python3.8/site-packages (from tensorboard~=2.6->tensorflow-cpu==2.6.0->-r /workspaces/mildew-detection-in-cherry-leaves/requirements.txt (line 10)) (0.7.2)\n",
      "Requirement already satisfied: werkzeug>=1.0.1 in /home/codeany/.local/lib/python3.8/site-packages (from tensorboard~=2.6->tensorflow-cpu==2.6.0->-r /workspaces/mildew-detection-in-cherry-leaves/requirements.txt (line 10)) (3.0.1)\n",
      "Requirement already satisfied: charset-normalizer<4,>=2 in /home/codeany/.pyenv/versions/3.8.12/lib/python3.8/site-packages (from requests->streamlit==0.85.0->-r /workspaces/mildew-detection-in-cherry-leaves/requirements.txt (line 7)) (3.3.1)\n",
      "Requirement already satisfied: idna<4,>=2.5 in /home/codeany/.pyenv/versions/3.8.12/lib/python3.8/site-packages (from requests->streamlit==0.85.0->-r /workspaces/mildew-detection-in-cherry-leaves/requirements.txt (line 7)) (3.4)\n",
      "Requirement already satisfied: urllib3<3,>=1.21.1 in /home/codeany/.pyenv/versions/3.8.12/lib/python3.8/site-packages (from requests->streamlit==0.85.0->-r /workspaces/mildew-detection-in-cherry-leaves/requirements.txt (line 7)) (2.0.7)\n",
      "Requirement already satisfied: gitdb<5,>=4.0.1 in /home/codeany/.pyenv/versions/3.8.12/lib/python3.8/site-packages (from gitpython->streamlit==0.85.0->-r /workspaces/mildew-detection-in-cherry-leaves/requirements.txt (line 7)) (4.0.11)\n",
      "Requirement already satisfied: backports.zoneinfo in /home/codeany/.local/lib/python3.8/site-packages (from tzlocal->streamlit==0.85.0->-r /workspaces/mildew-detection-in-cherry-leaves/requirements.txt (line 7)) (0.2.1)\n",
      "Requirement already satisfied: smmap<6,>=3.0.1 in /home/codeany/.pyenv/versions/3.8.12/lib/python3.8/site-packages (from gitdb<5,>=4.0.1->gitpython->streamlit==0.85.0->-r /workspaces/mildew-detection-in-cherry-leaves/requirements.txt (line 7)) (5.0.1)\n",
      "Requirement already satisfied: pyasn1-modules>=0.2.1 in /home/codeany/.local/lib/python3.8/site-packages (from google-auth<3,>=1.6.3->tensorboard~=2.6->tensorflow-cpu==2.6.0->-r /workspaces/mildew-detection-in-cherry-leaves/requirements.txt (line 10)) (0.3.0)\n",
      "Requirement already satisfied: rsa<5,>=3.1.4 in /home/codeany/.local/lib/python3.8/site-packages (from google-auth<3,>=1.6.3->tensorboard~=2.6->tensorflow-cpu==2.6.0->-r /workspaces/mildew-detection-in-cherry-leaves/requirements.txt (line 10)) (4.9)\n",
      "Requirement already satisfied: requests-oauthlib>=0.7.0 in /home/codeany/.local/lib/python3.8/site-packages (from google-auth-oauthlib<1.1,>=0.5->tensorboard~=2.6->tensorflow-cpu==2.6.0->-r /workspaces/mildew-detection-in-cherry-leaves/requirements.txt (line 10)) (1.3.1)\n",
      "Requirement already satisfied: zipp>=3.1.0 in /home/codeany/.pyenv/versions/3.8.12/lib/python3.8/site-packages (from importlib-resources>=1.4.0->jsonschema>=3.0->altair<5->-r /workspaces/mildew-detection-in-cherry-leaves/requirements.txt (line 13)) (3.17.0)\n",
      "Requirement already satisfied: importlib-metadata>=4.4 in /home/codeany/.pyenv/versions/3.8.12/lib/python3.8/site-packages (from markdown>=2.6.8->tensorboard~=2.6->tensorflow-cpu==2.6.0->-r /workspaces/mildew-detection-in-cherry-leaves/requirements.txt (line 10)) (6.8.0)\n",
      "Requirement already satisfied: pyasn1<0.6.0,>=0.4.6 in /home/codeany/.local/lib/python3.8/site-packages (from pyasn1-modules>=0.2.1->google-auth<3,>=1.6.3->tensorboard~=2.6->tensorflow-cpu==2.6.0->-r /workspaces/mildew-detection-in-cherry-leaves/requirements.txt (line 10)) (0.5.0)\n",
      "Requirement already satisfied: oauthlib>=3.0.0 in /home/codeany/.local/lib/python3.8/site-packages (from requests-oauthlib>=0.7.0->google-auth-oauthlib<1.1,>=0.5->tensorboard~=2.6->tensorflow-cpu==2.6.0->-r /workspaces/mildew-detection-in-cherry-leaves/requirements.txt (line 10)) (3.2.2)\n",
      "Installing collected packages: typing-extensions\n",
      "  Attempting uninstall: typing-extensions\n",
      "    Found existing installation: typing_extensions 4.8.0\n",
      "    Uninstalling typing_extensions-4.8.0:\n",
      "      Successfully uninstalled typing_extensions-4.8.0\n",
      "\u001b[31mERROR: pip's dependency resolver does not currently take into account all the packages that are installed. This behaviour is the source of the following dependency conflicts.\n",
      "astroid 3.0.1 requires typing-extensions>=4.0.0; python_version < \"3.11\", but you have typing-extensions 3.7.4.3 which is incompatible.\n",
      "async-lru 2.0.4 requires typing-extensions>=4.0.0; python_version < \"3.11\", but you have typing-extensions 3.7.4.3 which is incompatible.\n",
      "mypy 1.6.1 requires typing-extensions>=4.1.0, but you have typing-extensions 3.7.4.3 which is incompatible.\n",
      "pylint 3.0.2 requires typing-extensions>=3.10.0; python_version < \"3.10\", but you have typing-extensions 3.7.4.3 which is incompatible.\n",
      "rich 13.6.0 requires typing-extensions<5.0,>=4.0.0; python_version < \"3.9\", but you have typing-extensions 3.7.4.3 which is incompatible.\u001b[0m\u001b[31m\n",
      "\u001b[0mSuccessfully installed typing-extensions-3.7.4.3\n",
      "Note: you may need to restart the kernel to use updated packages.\n"
     ]
    }
   ],
   "source": [
    "%pip install -r /workspaces/mildew-detection-in-cherry-leaves/requirements.txt"
   ]
  },
  {
   "cell_type": "markdown",
   "metadata": {
    "id": "cqP-UeN-z3i2"
   },
   "source": [
    "# Change working directory"
   ]
  },
  {
   "cell_type": "markdown",
   "metadata": {},
   "source": [
    "* Here there is a  need to change the working directory\n",
    "* Access the current directory with os.getcwd()"
   ]
  },
  {
   "cell_type": "code",
   "execution_count": 3,
   "metadata": {
    "id": "wZfF_j-Bz3i4",
    "outputId": "66943449-1436-4c3d-85c7-b85f9f78349b"
   },
   "outputs": [
    {
     "data": {
      "text/plain": [
       "'/workspaces/mildew-detection-in-cherry-leaves/jupyter_notebooks'"
      ]
     },
     "execution_count": 3,
     "metadata": {},
     "output_type": "execute_result"
    }
   ],
   "source": [
    "import os\n",
    "current_dir = os.getcwd()\n",
    "current_dir"
   ]
  },
  {
   "cell_type": "markdown",
   "metadata": {
    "id": "9MWW8E7lz3i7"
   },
   "source": [
    "Making  the parent of the current directory the new current directory\n",
    "* os.path.dirname() gets the parent directory\n",
    "* os.chir() defines the new current directory"
   ]
  },
  {
   "cell_type": "code",
   "execution_count": 4,
   "metadata": {
    "id": "TwHsQRWjz3i9",
    "outputId": "86849db3-cd2f-4cc5-ebb8-2d0caafa1a2c"
   },
   "outputs": [
    {
     "name": "stdout",
     "output_type": "stream",
     "text": [
      "You set a new current directory\n"
     ]
    }
   ],
   "source": [
    "os.chdir(os.path.dirname(current_dir))\n",
    "print(\"You set a new current directory\")"
   ]
  },
  {
   "cell_type": "markdown",
   "metadata": {
    "id": "M_xPk_Ijz3i-"
   },
   "source": [
    "Confirm the new current directory"
   ]
  },
  {
   "cell_type": "code",
   "execution_count": 5,
   "metadata": {
    "id": "vz3S-_kjz3jA",
    "outputId": "00b79ae4-75d0-4a96-d193-ac9ef9847ea2"
   },
   "outputs": [
    {
     "data": {
      "text/plain": [
       "'/workspaces/mildew-detection-in-cherry-leaves'"
      ]
     },
     "execution_count": 5,
     "metadata": {},
     "output_type": "execute_result"
    }
   ],
   "source": [
    "current_dir = os.getcwd()\n",
    "current_dir"
   ]
  },
  {
   "cell_type": "markdown",
   "metadata": {
    "id": "-mavJ8DibrcQ"
   },
   "source": [
    "# Section 1"
   ]
  },
  {
   "cell_type": "markdown",
   "metadata": {},
   "source": [
    "## install Kaggle package"
   ]
  },
  {
   "cell_type": "code",
   "execution_count": 7,
   "metadata": {},
   "outputs": [
    {
     "name": "stdout",
     "output_type": "stream",
     "text": [
      "Collecting kaggle\n",
      "  Downloading kaggle-1.5.16.tar.gz (83 kB)\n",
      "\u001b[2K     \u001b[90m━━━━━━━━━━━━━━━━━━━━━━━━━━━━━━━━━━━━━━━━\u001b[0m \u001b[32m83.6/83.6 kB\u001b[0m \u001b[31m1.2 MB/s\u001b[0m eta \u001b[36m0:00:00\u001b[0ma \u001b[36m0:00:01\u001b[0m\n",
      "\u001b[?25h  Preparing metadata (setup.py) ... \u001b[?25ldone\n",
      "\u001b[?25hRequirement already satisfied: six>=1.10 in /home/codeany/.local/lib/python3.8/site-packages (from kaggle) (1.15.0)\n",
      "Requirement already satisfied: certifi in /home/codeany/.pyenv/versions/3.8.12/lib/python3.8/site-packages (from kaggle) (2023.7.22)\n",
      "Requirement already satisfied: python-dateutil in /home/codeany/.pyenv/versions/3.8.12/lib/python3.8/site-packages (from kaggle) (2.8.2)\n",
      "Requirement already satisfied: requests in /home/codeany/.pyenv/versions/3.8.12/lib/python3.8/site-packages (from kaggle) (2.31.0)\n",
      "Collecting tqdm (from kaggle)\n",
      "  Downloading tqdm-4.66.1-py3-none-any.whl.metadata (57 kB)\n",
      "\u001b[2K     \u001b[90m━━━━━━━━━━━━━━━━━━━━━━━━━━━━━━━━━━━━━━━━\u001b[0m \u001b[32m57.6/57.6 kB\u001b[0m \u001b[31m10.5 MB/s\u001b[0m eta \u001b[36m0:00:00\u001b[0m\n",
      "\u001b[?25hCollecting python-slugify (from kaggle)\n",
      "  Downloading python_slugify-8.0.1-py2.py3-none-any.whl (9.7 kB)\n",
      "Requirement already satisfied: urllib3 in /home/codeany/.pyenv/versions/3.8.12/lib/python3.8/site-packages (from kaggle) (2.0.7)\n",
      "Requirement already satisfied: bleach in /home/codeany/.pyenv/versions/3.8.12/lib/python3.8/site-packages (from kaggle) (6.1.0)\n",
      "Requirement already satisfied: webencodings in /home/codeany/.pyenv/versions/3.8.12/lib/python3.8/site-packages (from bleach->kaggle) (0.5.1)\n",
      "Collecting text-unidecode>=1.3 (from python-slugify->kaggle)\n",
      "  Downloading text_unidecode-1.3-py2.py3-none-any.whl (78 kB)\n",
      "\u001b[2K     \u001b[90m━━━━━━━━━━━━━━━━━━━━━━━━━━━━━━━━━━━━━━━━\u001b[0m \u001b[32m78.2/78.2 kB\u001b[0m \u001b[31m15.7 MB/s\u001b[0m eta \u001b[36m0:00:00\u001b[0m\n",
      "\u001b[?25hRequirement already satisfied: charset-normalizer<4,>=2 in /home/codeany/.pyenv/versions/3.8.12/lib/python3.8/site-packages (from requests->kaggle) (3.3.1)\n",
      "Requirement already satisfied: idna<4,>=2.5 in /home/codeany/.pyenv/versions/3.8.12/lib/python3.8/site-packages (from requests->kaggle) (3.4)\n",
      "Downloading tqdm-4.66.1-py3-none-any.whl (78 kB)\n",
      "\u001b[2K   \u001b[90m━━━━━━━━━━━━━━━━━━━━━━━━━━━━━━━━━━━━━━━━\u001b[0m \u001b[32m78.3/78.3 kB\u001b[0m \u001b[31m16.1 MB/s\u001b[0m eta \u001b[36m0:00:00\u001b[0m\n",
      "\u001b[?25hBuilding wheels for collected packages: kaggle\n",
      "  Building wheel for kaggle (setup.py) ... \u001b[?25ldone\n",
      "\u001b[?25h  Created wheel for kaggle: filename=kaggle-1.5.16-py3-none-any.whl size=110683 sha256=8d020c69a4f0319ba9d3be85a3ca207b63ed0c3d66c483fa966487799bc830cd\n",
      "  Stored in directory: /home/codeany/.cache/pip/wheels/5a/ab/50/e224f599a07faf6d398a8600796012da271b7e5e7f2a3ab2b8\n",
      "Successfully built kaggle\n",
      "Installing collected packages: text-unidecode, tqdm, python-slugify, kaggle\n",
      "Successfully installed kaggle-1.5.16 python-slugify-8.0.1 text-unidecode-1.3 tqdm-4.66.1\n"
     ]
    }
   ],
   "source": [
    "!pip install kaggle\n"
   ]
  },
  {
   "cell_type": "markdown",
   "metadata": {},
   "source": [
    "## change kaggle cconfiguration to current working directory"
   ]
  },
  {
   "cell_type": "code",
   "execution_count": 8,
   "metadata": {},
   "outputs": [],
   "source": [
    "os.environ['KAGGLE_CONFIG_DIR'] = os.getcwd()\n",
    "! chmod 600 kaggle.json"
   ]
  },
  {
   "cell_type": "markdown",
   "metadata": {},
   "source": [
    "##  Download the cherry leaves kaggle Dataset"
   ]
  },
  {
   "cell_type": "code",
   "execution_count": 9,
   "metadata": {},
   "outputs": [
    {
     "name": "stdout",
     "output_type": "stream",
     "text": [
      "Downloading cherry-leaves.zip to inputs/cherry_dataset\n",
      " 98%|█████████████████████████████████████▎| 54.0M/55.0M [00:47<00:00, 3.67MB/s]\n",
      "100%|██████████████████████████████████████| 55.0M/55.0M [00:47<00:00, 1.20MB/s]\n"
     ]
    }
   ],
   "source": [
    "KaggleDatasetPath = \"codeinstitute/cherry-leaves\"\n",
    "DestinationFolder = \"inputs/cherry_dataset\"   \n",
    "! kaggle datasets download -d {KaggleDatasetPath} -p {DestinationFolder}"
   ]
  },
  {
   "cell_type": "markdown",
   "metadata": {},
   "source": [
    "## unzip the downloaded and the delete the zip"
   ]
  },
  {
   "cell_type": "code",
   "execution_count": 13,
   "metadata": {},
   "outputs": [],
   "source": [
    "import zipfile\n",
    "with zipfile.ZipFile(DestinationFolder + '/cherry-leaves.zip', 'r') as zip_ref:\n",
    "    zip_ref.extractall(DestinationFolder)\n",
    "os.remove(DestinationFolder + '/cherry-leaves.zip')\n"
   ]
  },
  {
   "cell_type": "markdown",
   "metadata": {
    "id": "uFQo3ycuO-v6"
   },
   "source": [
    "# Section 2"
   ]
  },
  {
   "cell_type": "markdown",
   "metadata": {},
   "source": [
    "## Data Preparation"
   ]
  },
  {
   "cell_type": "markdown",
   "metadata": {},
   "source": [
    "### Data Cleaning"
   ]
  },
  {
   "cell_type": "markdown",
   "metadata": {},
   "source": [
    "* Check and remove non-image files"
   ]
  },
  {
   "cell_type": "code",
   "execution_count": 37,
   "metadata": {},
   "outputs": [],
   "source": [
    "import os\n",
    "\n",
    "def remove_non_image_file(cherry_data_dir):\n",
    "    image_extension = ('.png', '.jpg', '.jpeg')\n",
    "    for root, folders, files in os.walk(cherry_data_dir):\n",
    "        i = []\n",
    "        j = []\n",
    "        for given_file in files:\n",
    "            if not any(given_file.lower().endswith(extension) for extension in image_extension):\n",
    "                file_location = os.path.join(root, given_file)\n",
    "                os.remove(file_location)  # Remove non-image file\n",
    "                i.append(1)\n",
    "            else:\n",
    "                j.append(1)\n",
    "        print(f\"Folder: {root} - has {len(j)} image files\")\n",
    "        print(f\"Folder: {root} - has {len(i)} non-image files\")\n",
    "\n",
    "\n",
    "\n"
   ]
  },
  {
   "cell_type": "code",
   "execution_count": 38,
   "metadata": {},
   "outputs": [
    {
     "name": "stdout",
     "output_type": "stream",
     "text": [
      "Folder: inputs/cherry_dataset/cherry-leaves - has 0 image files\n",
      "Folder: inputs/cherry_dataset/cherry-leaves - has 0 non-image files\n",
      "Folder: inputs/cherry_dataset/cherry-leaves/healthy - has 2104 image files\n",
      "Folder: inputs/cherry_dataset/cherry-leaves/healthy - has 0 non-image files\n",
      "Folder: inputs/cherry_dataset/cherry-leaves/powdery_mildew - has 2104 image files\n",
      "Folder: inputs/cherry_dataset/cherry-leaves/powdery_mildew - has 0 non-image files\n"
     ]
    }
   ],
   "source": [
    "remove_non_image_file('inputs/cherry_dataset/cherry-leaves')\n"
   ]
  },
  {
   "cell_type": "markdown",
   "metadata": {
    "id": "ZY3l0-AxO93d"
   },
   "source": [
    "---"
   ]
  },
  {
   "cell_type": "markdown",
   "metadata": {},
   "source": [
    "Split train Validation test set"
   ]
  },
  {
   "cell_type": "code",
   "execution_count": 39,
   "metadata": {},
   "outputs": [],
   "source": [
    "import os\n",
    "import shutil\n",
    "import random\n",
    "import joblib\n",
    "\n",
    "\n",
    "def split_train_validation_test_images(cherry_data_dir, train_set_ratio, validation_set_ratio, test_set_ratio):\n",
    "\n",
    "    if train_set_ratio + validation_set_ratio + test_set_ratio != 1.0:\n",
    "        print(\"train_set_ratio + validation_set_ratio + test_set_ratio should sum to 1.0\")\n",
    "        return\n",
    "\n",
    "    # gets classes labels\n",
    "    labels = os.listdir(cherry_data_dir)  # it should get only the folder name\n",
    "    if 'test' in labels:\n",
    "        pass\n",
    "    else:\n",
    "        # create train, test folders with classes labels sub-folder\n",
    "        for folder in ['train', 'validation', 'test']:\n",
    "            for label in labels:\n",
    "                os.makedirs(name=cherry_data_dir + '/' + folder + '/' + label)\n",
    "\n",
    "        for label in labels:\n",
    "\n",
    "            files = os.listdir(cherry_data_dir + '/' + label)\n",
    "            random.shuffle(files)\n",
    "\n",
    "            train_set_files_qty = int(len(files) * train_set_ratio)\n",
    "            validation_set_files_qty = int(len(files) * validation_set_ratio)\n",
    "\n",
    "            count = 1\n",
    "            for file_name in files:\n",
    "                if count <= train_set_files_qty:\n",
    "                    # move a given file to the train set\n",
    "                    shutil.move(cherry_data_dir + '/' + label + '/' + file_name,\n",
    "                                cherry_data_dir + '/train/' + label + '/' + file_name)\n",
    "\n",
    "                elif count <= (train_set_files_qty + validation_set_files_qty):\n",
    "                    # move a given file to the validation set\n",
    "                    shutil.move(cherry_data_dir + '/' + label + '/' + file_name,\n",
    "                                cherry_data_dir + '/validation/' + label + '/' + file_name)\n",
    "\n",
    "                else:\n",
    "                    # move given file to test set\n",
    "                    shutil.move(cherry_data_dir + '/' + label + '/' + file_name,\n",
    "                                cherry_data_dir + '/test/' + label + '/' + file_name)\n",
    "\n",
    "                count += 1\n",
    "\n",
    "            os.rmdir(cherry_data_dir + '/' + label)"
   ]
  },
  {
   "cell_type": "markdown",
   "metadata": {},
   "source": [
    "# Note: The training set is divided into a 0.70 ratio of data.\n",
    "        The validation set is divided into a 0.10 ratio of data.\n",
    "        The test set is divided into a 0.20 ratio of data."
   ]
  },
  {
   "cell_type": "code",
   "execution_count": 41,
   "metadata": {},
   "outputs": [],
   "source": [
    "split_train_validation_test_images(cherry_data_dir=f\"inputs/cherry_dataset/cherry-leaves\",\n",
    "                                   train_set_ratio=0.7,\n",
    "                                   validation_set_ratio=0.1,\n",
    "                                   test_set_ratio=0.2\n",
    "                                   )"
   ]
  },
  {
   "cell_type": "markdown",
   "metadata": {},
   "source": [
    "---"
   ]
  },
  {
   "cell_type": "markdown",
   "metadata": {},
   "source": [
    "---"
   ]
  },
  {
   "cell_type": "markdown",
   "metadata": {
    "id": "ltNetd085qHf"
   },
   "source": [
    "# Push files to Repo"
   ]
  },
  {
   "cell_type": "markdown",
   "metadata": {},
   "source": [
    "!git add ."
   ]
  },
  {
   "cell_type": "code",
   "execution_count": 42,
   "metadata": {},
   "outputs": [
    {
     "name": "stdout",
     "output_type": "stream",
     "text": [
      "On branch main\n",
      "Your branch is up to date with 'origin/main'.\n",
      "\n",
      "Changes not staged for commit:\n",
      "  (use \"git add/rm <file>...\" to update what will be committed)\n",
      "  (use \"git restore <file>...\" to discard changes in working directory)\n",
      "\t\u001b[31mdeleted:    inputs/cherry_dataset/cherry-leaves/validation/healthy/002efba9-09b3-43de-93b7-5c2460185cde___JR_HL 9655.JPG\u001b[m\n",
      "\t\u001b[31mdeleted:    inputs/cherry_dataset/cherry-leaves/validation/healthy/01958ee7-f585-4956-90aa-a40dc79102d4___JR_HL 9836.JPG\u001b[m\n",
      "\t\u001b[31mdeleted:    inputs/cherry_dataset/cherry-leaves/validation/healthy/02a7466b-4847-4a18-bbd9-f0278e7b8d20___JR_HL 9582.JPG\u001b[m\n",
      "\t\u001b[31mdeleted:    inputs/cherry_dataset/cherry-leaves/validation/healthy/02d14b15-897d-4081-8953-e7d83189cff4___JR_HL 9723.JPG\u001b[m\n",
      "\t\u001b[31mdeleted:    inputs/cherry_dataset/cherry-leaves/validation/healthy/0580bdc7-e60e-4ba9-87dc-1202e57b94aa___JR_HL 4159.JPG\u001b[m\n",
      "\t\u001b[31mdeleted:    inputs/cherry_dataset/cherry-leaves/validation/healthy/0a68b3a9-e38f-45b5-8664-9c60e557a41d___JR_HL 9511.JPG\u001b[m\n",
      "\t\u001b[31mdeleted:    inputs/cherry_dataset/cherry-leaves/validation/healthy/0ce4ee15-d59b-4212-ab2a-8b6a07f3634f___JR_HL 9707.JPG\u001b[m\n",
      "\t\u001b[31mdeleted:    inputs/cherry_dataset/cherry-leaves/validation/healthy/0f93129a-1af1-415b-9d19-c74a1156c86b___JR_HL 9652.JPG\u001b[m\n",
      "\t\u001b[31mdeleted:    inputs/cherry_dataset/cherry-leaves/validation/healthy/1075f5f1-8cfe-420a-a65d-7c3399b63f39___JR_HL 9827.JPG\u001b[m\n",
      "\t\u001b[31mdeleted:    inputs/cherry_dataset/cherry-leaves/validation/healthy/1122ce37-d8a9-451e-b78c-841200726e0b___JR_HL 4204_180deg.JPG\u001b[m\n",
      "\t\u001b[31mdeleted:    inputs/cherry_dataset/cherry-leaves/validation/healthy/11d25451-c4c7-495d-87a4-9cb08f5934b1___JR_HL 4206.JPG\u001b[m\n",
      "\t\u001b[31mdeleted:    inputs/cherry_dataset/cherry-leaves/validation/healthy/124e5b7b-dc6a-4b5a-8f4e-b22ed738b5fc___JR_HL 9455.JPG\u001b[m\n",
      "\t\u001b[31mdeleted:    inputs/cherry_dataset/cherry-leaves/validation/healthy/1323484b-3af9-4ef3-bd2d-a26360c77a49___JR_HL 4032_flipTB.JPG\u001b[m\n",
      "\t\u001b[31mdeleted:    inputs/cherry_dataset/cherry-leaves/validation/healthy/141d550c-95f0-45eb-8196-8886f0b1acd6___JR_HL 4000_flipTB.JPG\u001b[m\n",
      "\t\u001b[31mdeleted:    inputs/cherry_dataset/cherry-leaves/validation/healthy/146525c6-e0e4-4296-b0cc-f08f41bd10b8___JR_HL 9864.JPG\u001b[m\n",
      "\t\u001b[31mdeleted:    inputs/cherry_dataset/cherry-leaves/validation/healthy/14a60696-ce0e-4180-840e-3e7e5ebe3d48___JR_HL 4150_flipTB.JPG\u001b[m\n",
      "\t\u001b[31mdeleted:    inputs/cherry_dataset/cherry-leaves/validation/healthy/151c23f5-9206-4950-953e-51b4f6c6e716___JR_HL 9878_180deg.JPG\u001b[m\n",
      "\t\u001b[31mdeleted:    inputs/cherry_dataset/cherry-leaves/validation/healthy/15b7d0a2-f9de-436b-92e4-7b1c2993984c___JR_HL 4250_180deg.JPG\u001b[m\n",
      "\t\u001b[31mdeleted:    inputs/cherry_dataset/cherry-leaves/validation/healthy/170d5af5-538b-4cf3-b344-de385bc254f8___JR_HL 4149_180deg.JPG\u001b[m\n",
      "\t\u001b[31mdeleted:    inputs/cherry_dataset/cherry-leaves/validation/healthy/17c449c1-f296-4cb3-8d12-156b27d2981a___JR_HL 9703_flipTB.JPG\u001b[m\n",
      "\t\u001b[31mdeleted:    inputs/cherry_dataset/cherry-leaves/validation/healthy/17ced140-3575-471d-9a52-9d37a9e4fccd___JR_HL 4266_flipTB.JPG\u001b[m\n",
      "\t\u001b[31mdeleted:    inputs/cherry_dataset/cherry-leaves/validation/healthy/185054fb-77dd-4c64-8d76-d1f061da173f___JR_HL 9797.JPG\u001b[m\n",
      "\t\u001b[31mdeleted:    inputs/cherry_dataset/cherry-leaves/validation/healthy/18e3c122-617d-4eea-abe5-81e910e58a3c___JR_HL 9830_flipTB.JPG\u001b[m\n",
      "\t\u001b[31mdeleted:    inputs/cherry_dataset/cherry-leaves/validation/healthy/190c64b8-b621-4b74-b5f3-f6576fd46cf5___JR_HL 4315.JPG\u001b[m\n",
      "\t\u001b[31mdeleted:    inputs/cherry_dataset/cherry-leaves/validation/healthy/1f68997e-0811-41e3-9414-cb242798e96c___JR_HL 9795.JPG\u001b[m\n",
      "\t\u001b[31mdeleted:    inputs/cherry_dataset/cherry-leaves/validation/healthy/23066177-8deb-44c9-8180-d38348f63c18___JR_HL 9492.JPG\u001b[m\n",
      "\t\u001b[31mdeleted:    inputs/cherry_dataset/cherry-leaves/validation/healthy/24695149-1c3d-406e-8468-086d5020a7a5___JR_HL 4282_180deg.JPG\u001b[m\n",
      "\t\u001b[31mdeleted:    inputs/cherry_dataset/cherry-leaves/validation/healthy/24cff2cf-14e7-4c20-929a-ea2001d8de38___JR_HL 9639.JPG\u001b[m\n",
      "\t\u001b[31mdeleted:    inputs/cherry_dataset/cherry-leaves/validation/healthy/24cff2cf-14e7-4c20-929a-ea2001d8de38___JR_HL 9639_180deg.JPG\u001b[m\n",
      "\t\u001b[31mdeleted:    inputs/cherry_dataset/cherry-leaves/validation/healthy/25dd43a5-9a2b-4051-abdc-1f3a6311915a___JR_HL 9516_flipTB.JPG\u001b[m\n",
      "\t\u001b[31mdeleted:    inputs/cherry_dataset/cherry-leaves/validation/healthy/276ae5a6-460d-4a22-af95-0a4f8182610e___JR_HL 4222_flipTB.JPG\u001b[m\n",
      "\t\u001b[31mdeleted:    inputs/cherry_dataset/cherry-leaves/validation/healthy/28821198-5ac9-45e1-a5d7-37d58258a58a___JR_HL 9543.JPG\u001b[m\n",
      "\t\u001b[31mdeleted:    inputs/cherry_dataset/cherry-leaves/validation/healthy/28821198-5ac9-45e1-a5d7-37d58258a58a___JR_HL 9543_flipTB.JPG\u001b[m\n",
      "\t\u001b[31mdeleted:    inputs/cherry_dataset/cherry-leaves/validation/healthy/28afb0d3-8bc6-4d22-9679-f128eeedf52b___JR_HL 4214_180deg.JPG\u001b[m\n",
      "\t\u001b[31mdeleted:    inputs/cherry_dataset/cherry-leaves/validation/healthy/31ca812a-76c6-4010-953a-ebb96d705b74___JR_HL 4005.JPG\u001b[m\n",
      "\t\u001b[31mdeleted:    inputs/cherry_dataset/cherry-leaves/validation/healthy/31ca812a-76c6-4010-953a-ebb96d705b74___JR_HL 4005_180deg.JPG\u001b[m\n",
      "\t\u001b[31mdeleted:    inputs/cherry_dataset/cherry-leaves/validation/healthy/328813fb-93bc-4673-9eaf-dc4e243d0418___JR_HL 3933.JPG\u001b[m\n",
      "\t\u001b[31mdeleted:    inputs/cherry_dataset/cherry-leaves/validation/healthy/334e9c97-03ce-4ad6-96dc-16c92578d63d___JR_HL 9525_180deg.JPG\u001b[m\n",
      "\t\u001b[31mdeleted:    inputs/cherry_dataset/cherry-leaves/validation/healthy/34e05c4f-6742-442e-884e-ef3191eb923b___JR_HL 4049.JPG\u001b[m\n",
      "\t\u001b[31mdeleted:    inputs/cherry_dataset/cherry-leaves/validation/healthy/35457722-0a92-4019-906e-5f7933f326d7___JR_HL 4056_180deg.JPG\u001b[m\n",
      "\t\u001b[31mdeleted:    inputs/cherry_dataset/cherry-leaves/validation/healthy/3701b877-df2b-49cd-9bb9-066dd6f2f206___JR_HL 9734.JPG\u001b[m\n",
      "\t\u001b[31mdeleted:    inputs/cherry_dataset/cherry-leaves/validation/healthy/3701b877-df2b-49cd-9bb9-066dd6f2f206___JR_HL 9734_flipTB.JPG\u001b[m\n",
      "\t\u001b[31mdeleted:    inputs/cherry_dataset/cherry-leaves/validation/healthy/370f1afd-57db-4b5f-988a-fe23851a135f___JR_HL 9499.JPG\u001b[m\n",
      "\t\u001b[31mdeleted:    inputs/cherry_dataset/cherry-leaves/validation/healthy/376a2a7e-8e4f-42ac-a961-3bffb4d37d53___JR_HL 4237_180deg.JPG\u001b[m\n",
      "\t\u001b[31mdeleted:    inputs/cherry_dataset/cherry-leaves/validation/healthy/38623e82-f2ee-424c-98b4-aabefd6cc8fe___JR_HL 4010.JPG\u001b[m\n",
      "\t\u001b[31mdeleted:    inputs/cherry_dataset/cherry-leaves/validation/healthy/391518cc-e8d0-423f-8c18-31b10c64dbc0___JR_HL 9888 copy_180deg.JPG\u001b[m\n",
      "\t\u001b[31mdeleted:    inputs/cherry_dataset/cherry-leaves/validation/healthy/3b32151e-5a15-4ca5-a5c2-025bda5bbd81___JR_HL 4292.JPG\u001b[m\n",
      "\t\u001b[31mdeleted:    inputs/cherry_dataset/cherry-leaves/validation/healthy/3d03a275-5710-44b3-8425-881636594b9e___JR_HL 4054.JPG\u001b[m\n",
      "\t\u001b[31mdeleted:    inputs/cherry_dataset/cherry-leaves/validation/healthy/3e5b78ea-524c-4b95-bc2e-4885ccb405a4___JR_HL 4107.JPG\u001b[m\n",
      "\t\u001b[31mdeleted:    inputs/cherry_dataset/cherry-leaves/validation/healthy/3fd29c90-f9b4-466b-9e10-a64c335ea6a0___JR_HL 4111.JPG\u001b[m\n",
      "\t\u001b[31mdeleted:    inputs/cherry_dataset/cherry-leaves/validation/healthy/40a66eb2-5cf5-44d2-8ce2-7a7e4321295a___JR_HL 4083_flipTB.JPG\u001b[m\n",
      "\t\u001b[31mdeleted:    inputs/cherry_dataset/cherry-leaves/validation/healthy/411cf812-3f38-409e-88d3-9d36e7cc3d5b___JR_HL 4052.JPG\u001b[m\n",
      "\t\u001b[31mdeleted:    inputs/cherry_dataset/cherry-leaves/validation/healthy/418fb46a-4ace-4f51-b85b-a3885275fe96___JR_HL 9837_180deg.JPG\u001b[m\n",
      "\t\u001b[31mdeleted:    inputs/cherry_dataset/cherry-leaves/validation/healthy/41f5385e-d509-4178-80f2-730cb5ec4871___JR_HL 9552_180deg.JPG\u001b[m\n",
      "\t\u001b[31mdeleted:    inputs/cherry_dataset/cherry-leaves/validation/healthy/456af412-3d01-4046-b2a7-1283a2121d07___JR_HL 9498_180deg.JPG\u001b[m\n",
      "\t\u001b[31mdeleted:    inputs/cherry_dataset/cherry-leaves/validation/healthy/4588d318-6566-403c-8901-85cf834e7dc7___JR_HL 4267_flipTB.JPG\u001b[m\n",
      "\t\u001b[31mdeleted:    inputs/cherry_dataset/cherry-leaves/validation/healthy/48a91ca3-c944-4b2b-9068-8f5d77c4dc14___JR_HL 9487.JPG\u001b[m\n",
      "\t\u001b[31mdeleted:    inputs/cherry_dataset/cherry-leaves/validation/healthy/493e0085-4c40-42a4-b580-32e81f0585fa___JR_HL 9851_180deg.JPG\u001b[m\n",
      "\t\u001b[31mdeleted:    inputs/cherry_dataset/cherry-leaves/validation/healthy/493e0085-4c40-42a4-b580-32e81f0585fa___JR_HL 9851_flipTB.JPG\u001b[m\n",
      "\t\u001b[31mdeleted:    inputs/cherry_dataset/cherry-leaves/validation/healthy/4e60149e-b4ba-4da7-8493-77268030b4f0___JR_HL 9690.JPG\u001b[m\n",
      "\t\u001b[31mdeleted:    inputs/cherry_dataset/cherry-leaves/validation/healthy/501a9e53-250c-4ba7-b216-2295f4883aba___JR_HL 9575_180deg.JPG\u001b[m\n",
      "\t\u001b[31mdeleted:    inputs/cherry_dataset/cherry-leaves/validation/healthy/5248fd97-c794-4d16-b797-957d851da129___JR_HL 9892 copy_180deg.JPG\u001b[m\n",
      "\t\u001b[31mdeleted:    inputs/cherry_dataset/cherry-leaves/validation/healthy/534159ca-ce41-470a-bce3-729af336d250___JR_HL 9809_180deg.JPG\u001b[m\n",
      "\t\u001b[31mdeleted:    inputs/cherry_dataset/cherry-leaves/validation/healthy/54dc1419-0abe-4289-9944-f087be1dadc8___JR_HL 4181_flipTB.JPG\u001b[m\n",
      "\t\u001b[31mdeleted:    inputs/cherry_dataset/cherry-leaves/validation/healthy/5ad606ab-2585-4e23-9f8d-bb8e6cb02a5c___JR_HL 9528.JPG\u001b[m\n",
      "\t\u001b[31mdeleted:    inputs/cherry_dataset/cherry-leaves/validation/healthy/601299ca-bbd1-4c0d-b9a5-f70a03803729___JR_HL 9713_flipTB.JPG\u001b[m\n",
      "\t\u001b[31mdeleted:    inputs/cherry_dataset/cherry-leaves/validation/healthy/6108b75d-868c-4184-bb14-978dd5100fee___JR_HL 9704_flipTB.JPG\u001b[m\n",
      "\t\u001b[31mdeleted:    inputs/cherry_dataset/cherry-leaves/validation/healthy/66ce4359-c65f-4f55-82da-dfc2067eb67d___JR_HL 9451.JPG\u001b[m\n",
      "\t\u001b[31mdeleted:    inputs/cherry_dataset/cherry-leaves/validation/healthy/66ce4359-c65f-4f55-82da-dfc2067eb67d___JR_HL 9451_flipTB.JPG\u001b[m\n",
      "\t\u001b[31mdeleted:    inputs/cherry_dataset/cherry-leaves/validation/healthy/68851b6b-4572-4d7f-8df8-5c0e24479d4d___JR_HL 9461.JPG\u001b[m\n",
      "\t\u001b[31mdeleted:    inputs/cherry_dataset/cherry-leaves/validation/healthy/68a06d43-ca39-431a-bd8b-d7b6e716d734___JR_HL 9522.JPG\u001b[m\n",
      "\t\u001b[31mdeleted:    inputs/cherry_dataset/cherry-leaves/validation/healthy/69de380a-4fd8-4c50-bdff-a983495dcd8c___JR_HL 4175.JPG\u001b[m\n",
      "\t\u001b[31mdeleted:    inputs/cherry_dataset/cherry-leaves/validation/healthy/69de380a-4fd8-4c50-bdff-a983495dcd8c___JR_HL 4175_flipTB.JPG\u001b[m\n",
      "\t\u001b[31mdeleted:    inputs/cherry_dataset/cherry-leaves/validation/healthy/6bc57fec-e2b2-4996-852c-b00f40f291ef___JR_HL 9815.JPG\u001b[m\n",
      "\t\u001b[31mdeleted:    inputs/cherry_dataset/cherry-leaves/validation/healthy/6be7d4c3-bd76-4d4d-b22a-59d3095384e9___JR_HL 4122_180deg.JPG\u001b[m\n",
      "\t\u001b[31mdeleted:    inputs/cherry_dataset/cherry-leaves/validation/healthy/6e825c91-1907-4ad8-8ae4-50962f2b1b15___JR_HL 9877 copy_flipTB.JPG\u001b[m\n",
      "\t\u001b[31mdeleted:    inputs/cherry_dataset/cherry-leaves/validation/healthy/6fdf8890-145d-4390-9e9d-eb529a4abb3d___JR_HL 4252_flipTB.JPG\u001b[m\n",
      "\t\u001b[31mdeleted:    inputs/cherry_dataset/cherry-leaves/validation/healthy/70bab855-a953-4713-bd17-fd45933c90a0___JR_HL 9667_180deg.JPG\u001b[m\n",
      "\t\u001b[31mdeleted:    inputs/cherry_dataset/cherry-leaves/validation/healthy/70cd29ea-fe96-4f8e-961b-3aa02db4a014___JR_HL 4278_180deg.JPG\u001b[m\n",
      "\t\u001b[31mdeleted:    inputs/cherry_dataset/cherry-leaves/validation/healthy/71f1ee92-e98d-41e7-b129-2f9c97331f97___JR_HL 9869_flipTB.JPG\u001b[m\n",
      "\t\u001b[31mdeleted:    inputs/cherry_dataset/cherry-leaves/validation/healthy/73528ace-e81b-4d49-abea-1b9c395feba2___JR_HL 4184_180deg.JPG\u001b[m\n",
      "\t\u001b[31mdeleted:    inputs/cherry_dataset/cherry-leaves/validation/healthy/744ca065-3894-4cb9-83c2-33a6f46bbd39___JR_HL 4143_flipTB.JPG\u001b[m\n",
      "\t\u001b[31mdeleted:    inputs/cherry_dataset/cherry-leaves/validation/healthy/754be5a5-dba1-4abb-afe8-c2e75edcf883___JR_HL 3929.JPG\u001b[m\n",
      "\t\u001b[31mdeleted:    inputs/cherry_dataset/cherry-leaves/validation/healthy/76fcf126-ce7a-4848-b2ba-d248ff170906___JR_HL 9879 copy.JPG\u001b[m\n",
      "\t\u001b[31mdeleted:    inputs/cherry_dataset/cherry-leaves/validation/healthy/77df2a22-77fe-4617-83c4-f37e1776e225___JR_HL 9665_180deg.JPG\u001b[m\n",
      "\t\u001b[31mdeleted:    inputs/cherry_dataset/cherry-leaves/validation/healthy/7849f661-8a45-4a10-bda1-9d382f576517___JR_HL 9775.JPG\u001b[m\n",
      "\t\u001b[31mdeleted:    inputs/cherry_dataset/cherry-leaves/validation/healthy/788d7aee-82f5-48ec-9d4a-3d10e730d302___JR_HL 9520_180deg.JPG\u001b[m\n",
      "\t\u001b[31mdeleted:    inputs/cherry_dataset/cherry-leaves/validation/healthy/788d7aee-82f5-48ec-9d4a-3d10e730d302___JR_HL 9520_flipTB.JPG\u001b[m\n",
      "\t\u001b[31mdeleted:    inputs/cherry_dataset/cherry-leaves/validation/healthy/790ba57a-4f9d-461f-99ce-88019ffc60ed___JR_HL 4015.JPG\u001b[m\n",
      "\t\u001b[31mdeleted:    inputs/cherry_dataset/cherry-leaves/validation/healthy/791a7d36-49d2-4b61-8fc9-bfab404a9124___JR_HL 9456_180deg.JPG\u001b[m\n",
      "\t\u001b[31mdeleted:    inputs/cherry_dataset/cherry-leaves/validation/healthy/7ad0e6bd-a9b8-475d-b2dc-d9c62a55db89___JR_HL 9728.JPG\u001b[m\n",
      "\t\u001b[31mdeleted:    inputs/cherry_dataset/cherry-leaves/validation/healthy/7bb5ebf4-8be6-4652-913c-519b58a34821___JR_HL 9758_flipTB.JPG\u001b[m\n",
      "\t\u001b[31mdeleted:    inputs/cherry_dataset/cherry-leaves/validation/healthy/7da69e80-87cd-4f4b-8a9b-2bf4cd6f1c8d___JR_HL 9751_flipTB.JPG\u001b[m\n",
      "\t\u001b[31mdeleted:    inputs/cherry_dataset/cherry-leaves/validation/healthy/7e88d72b-2f03-4220-afbf-060984a9eec9___JR_HL 4114_180deg.JPG\u001b[m\n",
      "\t\u001b[31mdeleted:    inputs/cherry_dataset/cherry-leaves/validation/healthy/7feb145d-637f-4ce2-8f79-eb0be1160a86___JR_HL 4285_180deg.JPG\u001b[m\n",
      "\t\u001b[31mdeleted:    inputs/cherry_dataset/cherry-leaves/validation/healthy/810b4077-aceb-4dbc-afad-9abf732ea00b___JR_HL 9457_flipTB.JPG\u001b[m\n",
      "\t\u001b[31mdeleted:    inputs/cherry_dataset/cherry-leaves/validation/healthy/81bb1547-9da2-4754-8829-3690422f46bd___JR_HL 9519_180deg.JPG\u001b[m\n",
      "\t\u001b[31mdeleted:    inputs/cherry_dataset/cherry-leaves/validation/healthy/8236091f-890d-4af4-995c-e4a259904d5d___JR_HL 9701_flipTB.JPG\u001b[m\n",
      "\t\u001b[31mdeleted:    inputs/cherry_dataset/cherry-leaves/validation/healthy/8352e65f-aecd-4b9d-881c-85f71f702e59___JR_HL 9460.JPG\u001b[m\n",
      "\t\u001b[31mdeleted:    inputs/cherry_dataset/cherry-leaves/validation/healthy/85cbe85f-385e-4105-8d05-4ce5e56bcdc8___JR_HL 4200_180deg.JPG\u001b[m\n",
      "\t\u001b[31mdeleted:    inputs/cherry_dataset/cherry-leaves/validation/healthy/8703335b-e747-4283-b57e-8467f17fa744___JR_HL 9585_180deg.JPG\u001b[m\n",
      "\t\u001b[31mdeleted:    inputs/cherry_dataset/cherry-leaves/validation/healthy/87739566-ed1f-4da7-b465-f1c8d464aa5d___JR_HL 4044.JPG\u001b[m\n",
      "\t\u001b[31mdeleted:    inputs/cherry_dataset/cherry-leaves/validation/healthy/8ac9b3d3-23c6-42e1-84d7-c4109379b7a1___JR_HL 9640_flipTB.JPG\u001b[m\n",
      "\t\u001b[31mdeleted:    inputs/cherry_dataset/cherry-leaves/validation/healthy/8fbf0127-e286-466a-bb84-9d16e223953a___JR_HL 9459.JPG\u001b[m\n",
      "\t\u001b[31mdeleted:    inputs/cherry_dataset/cherry-leaves/validation/healthy/9061c91f-b268-4725-a2b7-26500a26f1f1___JR_HL 4248_flipTB.JPG\u001b[m\n",
      "\t\u001b[31mdeleted:    inputs/cherry_dataset/cherry-leaves/validation/healthy/91dda36e-1105-43e1-806f-e728843ac9a5___JR_HL 9806_flipTB.JPG\u001b[m\n",
      "\t\u001b[31mdeleted:    inputs/cherry_dataset/cherry-leaves/validation/healthy/921bd8b0-115a-4bc2-88a9-63955ab2e35a___JR_HL 9816_180deg.JPG\u001b[m\n",
      "\t\u001b[31mdeleted:    inputs/cherry_dataset/cherry-leaves/validation/healthy/945405b7-e207-4cb2-a618-ac8a78c67c9f___JR_HL 9653_flipTB.JPG\u001b[m\n",
      "\t\u001b[31mdeleted:    inputs/cherry_dataset/cherry-leaves/validation/healthy/9711cd2a-25f1-4e08-bb70-b5443d2ed94e___JR_HL 9432.JPG\u001b[m\n",
      "\t\u001b[31mdeleted:    inputs/cherry_dataset/cherry-leaves/validation/healthy/9dde3b7f-8e56-4469-8490-9ced3fca4374___JR_HL 9663_180deg.JPG\u001b[m\n",
      "\t\u001b[31mdeleted:    inputs/cherry_dataset/cherry-leaves/validation/healthy/a02b4505-3eca-4e10-bed7-4988f600ac27___JR_HL 9769_180deg.JPG\u001b[m\n",
      "\t\u001b[31mdeleted:    inputs/cherry_dataset/cherry-leaves/validation/healthy/a02b4505-3eca-4e10-bed7-4988f600ac27___JR_HL 9769_flipTB.JPG\u001b[m\n",
      "\t\u001b[31mdeleted:    inputs/cherry_dataset/cherry-leaves/validation/healthy/a0b4d7a4-947b-4ca7-9984-88da24f41390___JR_HL 9468_180deg.JPG\u001b[m\n",
      "\t\u001b[31mdeleted:    inputs/cherry_dataset/cherry-leaves/validation/healthy/a1aa7963-d10f-429f-8265-d4d4e5b97b9b___JR_HL 9689_flipTB.JPG\u001b[m\n",
      "\t\u001b[31mdeleted:    inputs/cherry_dataset/cherry-leaves/validation/healthy/a36fb3a6-f05b-4541-8617-6079781ea8ed___JR_HL 9831_180deg.JPG\u001b[m\n",
      "\t\u001b[31mdeleted:    inputs/cherry_dataset/cherry-leaves/validation/healthy/a3f150fa-e692-4588-a797-ab260f45abcb___JR_HL 9637.JPG\u001b[m\n",
      "\t\u001b[31mdeleted:    inputs/cherry_dataset/cherry-leaves/validation/healthy/a46afcb8-ce3a-4583-aa94-ad5ea4c66ab0___JR_HL 4102_flipTB.JPG\u001b[m\n",
      "\t\u001b[31mdeleted:    inputs/cherry_dataset/cherry-leaves/validation/healthy/a4781448-2096-4390-bf06-cf2ee074dc2b___JR_HL 4213.JPG\u001b[m\n",
      "\t\u001b[31mdeleted:    inputs/cherry_dataset/cherry-leaves/validation/healthy/a52b26ec-29a5-4bb6-b3e4-f7599240e0d3___JR_HL 4021_flipTB.JPG\u001b[m\n",
      "\t\u001b[31mdeleted:    inputs/cherry_dataset/cherry-leaves/validation/healthy/a55d7cbf-498c-4392-b6a0-14f7f0f74a3b___JR_HL 9578_flipTB.JPG\u001b[m\n",
      "\t\u001b[31mdeleted:    inputs/cherry_dataset/cherry-leaves/validation/healthy/a5acd354-cbb4-42fb-ac89-4c2ee84955d6___JR_HL 9486_180deg.JPG\u001b[m\n",
      "\t\u001b[31mdeleted:    inputs/cherry_dataset/cherry-leaves/validation/healthy/a684ee42-fe12-4ccb-ae9c-a55d4322a817___JR_HL 9876.JPG\u001b[m\n",
      "\t\u001b[31mdeleted:    inputs/cherry_dataset/cherry-leaves/validation/healthy/a88cb1e2-0b5b-43ea-9a20-c09951e0a67c___JR_HL 9620.JPG\u001b[m\n",
      "\t\u001b[31mdeleted:    inputs/cherry_dataset/cherry-leaves/validation/healthy/a97e7cd1-52ee-49fa-a352-f424d8ad6c8f___JR_HL 9529.JPG\u001b[m\n",
      "\t\u001b[31mdeleted:    inputs/cherry_dataset/cherry-leaves/validation/healthy/a97e7cd1-52ee-49fa-a352-f424d8ad6c8f___JR_HL 9529_flipTB.JPG\u001b[m\n",
      "\t\u001b[31mdeleted:    inputs/cherry_dataset/cherry-leaves/validation/healthy/aac1e835-defb-45dd-b439-986ad949f684___JR_HL 9442_180deg.JPG\u001b[m\n",
      "\t\u001b[31mdeleted:    inputs/cherry_dataset/cherry-leaves/validation/healthy/aac1e835-defb-45dd-b439-986ad949f684___JR_HL 9442_flipTB.JPG\u001b[m\n",
      "\t\u001b[31mdeleted:    inputs/cherry_dataset/cherry-leaves/validation/healthy/ac32e22a-5841-4531-8d5a-84f8c5288f4a___JR_HL 9845.JPG\u001b[m\n",
      "\t\u001b[31mdeleted:    inputs/cherry_dataset/cherry-leaves/validation/healthy/af0a0059-222f-4991-94da-a4501a9d3c50___JR_HL 9533_flipTB.JPG\u001b[m\n",
      "\t\u001b[31mdeleted:    inputs/cherry_dataset/cherry-leaves/validation/healthy/af3fc764-85b8-4777-8056-585d6a13e225___JR_HL 4062_flipTB.JPG\u001b[m\n",
      "\t\u001b[31mdeleted:    inputs/cherry_dataset/cherry-leaves/validation/healthy/b1735d5c-0638-4299-95a0-eb94cfcfd151___JR_HL 9715.JPG\u001b[m\n",
      "\t\u001b[31mdeleted:    inputs/cherry_dataset/cherry-leaves/validation/healthy/b386a059-871e-4564-a3a4-96988c01a51b___JR_HL 9632_flipTB.JPG\u001b[m\n",
      "\t\u001b[31mdeleted:    inputs/cherry_dataset/cherry-leaves/validation/healthy/b4ab9ee4-136d-4150-b01c-1d885669da4a___JR_HL 4312.JPG\u001b[m\n",
      "\t\u001b[31mdeleted:    inputs/cherry_dataset/cherry-leaves/validation/healthy/b4ab9ee4-136d-4150-b01c-1d885669da4a___JR_HL 4312_flipTB.JPG\u001b[m\n",
      "\t\u001b[31mdeleted:    inputs/cherry_dataset/cherry-leaves/validation/healthy/b4c4f75b-032e-4034-8525-26844cc6bff5___JR_HL 4211_flipTB.JPG\u001b[m\n",
      "\t\u001b[31mdeleted:    inputs/cherry_dataset/cherry-leaves/validation/healthy/b8eb52cb-27de-4707-b089-5b80f550adb1___JR_HL 9676.JPG\u001b[m\n",
      "\t\u001b[31mdeleted:    inputs/cherry_dataset/cherry-leaves/validation/healthy/bacb46de-7443-49ff-a0d9-c5b60a83f2c0___JR_HL 4256.JPG\u001b[m\n",
      "\t\u001b[31mdeleted:    inputs/cherry_dataset/cherry-leaves/validation/healthy/bc6df844-60dc-4e71-b7f0-81e2e2890597___JR_HL 4320.JPG\u001b[m\n",
      "\t\u001b[31mdeleted:    inputs/cherry_dataset/cherry-leaves/validation/healthy/bd7c0e0a-394c-43a6-8c8d-9b0c5fb05416___JR_HL 9427.JPG\u001b[m\n",
      "\t\u001b[31mdeleted:    inputs/cherry_dataset/cherry-leaves/validation/healthy/bdb6842e-dcd1-458f-8f88-4b0798556fe1___JR_HL 4255_flipTB.JPG\u001b[m\n",
      "\t\u001b[31mdeleted:    inputs/cherry_dataset/cherry-leaves/validation/healthy/be36a613-f4c9-434c-a0da-50f6dd98984d___JR_HL 4212_flipTB.JPG\u001b[m\n",
      "\t\u001b[31mdeleted:    inputs/cherry_dataset/cherry-leaves/validation/healthy/be7f5965-36ae-4fc6-9078-2467b587dfae___JR_HL 9595_180deg.JPG\u001b[m\n",
      "\t\u001b[31mdeleted:    inputs/cherry_dataset/cherry-leaves/validation/healthy/c019b1dd-288e-4914-9abb-348e33cec899___JR_HL 4157_flipTB.JPG\u001b[m\n",
      "\t\u001b[31mdeleted:    inputs/cherry_dataset/cherry-leaves/validation/healthy/c1011062-7bbf-45b2-bca2-1de3e5c5cd9a___JR_HL 4258_180deg.JPG\u001b[m\n",
      "\t\u001b[31mdeleted:    inputs/cherry_dataset/cherry-leaves/validation/healthy/c37f8678-ed86-42ab-9a8b-f4172d94bf1e___JR_HL 4220.JPG\u001b[m\n",
      "\t\u001b[31mdeleted:    inputs/cherry_dataset/cherry-leaves/validation/healthy/c37f8678-ed86-42ab-9a8b-f4172d94bf1e___JR_HL 4220_flipTB.JPG\u001b[m\n",
      "\t\u001b[31mdeleted:    inputs/cherry_dataset/cherry-leaves/validation/healthy/c3da605f-86e5-4cc5-a88f-99586e313151___JR_HL 9873.JPG\u001b[m\n",
      "\t\u001b[31mdeleted:    inputs/cherry_dataset/cherry-leaves/validation/healthy/c4d080c7-e9be-4be6-a91c-290992c2cac0___JR_HL 9801_180deg.JPG\u001b[m\n",
      "\t\u001b[31mdeleted:    inputs/cherry_dataset/cherry-leaves/validation/healthy/c58da3fc-4c6b-4de9-98a2-500e26cee46d___JR_HL 9544_flipTB.JPG\u001b[m\n",
      "\t\u001b[31mdeleted:    inputs/cherry_dataset/cherry-leaves/validation/healthy/c62f98cf-7344-4e43-b31a-9b91f361acf9___JR_HL 4239_flipTB.JPG\u001b[m\n",
      "\t\u001b[31mdeleted:    inputs/cherry_dataset/cherry-leaves/validation/healthy/c6645e0d-17a5-4d1b-936c-84c61e847b50___JR_HL 9446_180deg.JPG\u001b[m\n",
      "\t\u001b[31mdeleted:    inputs/cherry_dataset/cherry-leaves/validation/healthy/c8cbb528-e68c-4aac-89fa-3e0eee1b9f24___JR_HL 4147_flipTB.JPG\u001b[m\n",
      "\t\u001b[31mdeleted:    inputs/cherry_dataset/cherry-leaves/validation/healthy/ca1aebd1-8b31-4727-a4be-e1a8f421f1cf___JR_HL 9893 copy_flipTB.JPG\u001b[m\n",
      "\t\u001b[31mdeleted:    inputs/cherry_dataset/cherry-leaves/validation/healthy/cbb4bd24-9572-4235-a9c1-e6b73118b7d5___JR_HL 4120_180deg.JPG\u001b[m\n",
      "\t\u001b[31mdeleted:    inputs/cherry_dataset/cherry-leaves/validation/healthy/cd687fc8-fab4-49c0-a751-e6d111549c78___JR_HL 4240.JPG\u001b[m\n",
      "\t\u001b[31mdeleted:    inputs/cherry_dataset/cherry-leaves/validation/healthy/cf4c72b5-0d99-4bc8-a6df-ff734cf5ba02___JR_HL 9509.JPG\u001b[m\n",
      "\t\u001b[31mdeleted:    inputs/cherry_dataset/cherry-leaves/validation/healthy/cf4c72b5-0d99-4bc8-a6df-ff734cf5ba02___JR_HL 9509_180deg.JPG\u001b[m\n",
      "\t\u001b[31mdeleted:    inputs/cherry_dataset/cherry-leaves/validation/healthy/cf8f368a-e5bf-4382-bcab-d84f4530a558___JR_HL 3927.JPG\u001b[m\n",
      "\t\u001b[31mdeleted:    inputs/cherry_dataset/cherry-leaves/validation/healthy/d03d7e87-1375-490a-bb4a-b7dd2480f123___JR_HL 9476_180deg.JPG\u001b[m\n",
      "\t\u001b[31mdeleted:    inputs/cherry_dataset/cherry-leaves/validation/healthy/d0ca6667-2c20-4601-84ae-662d0519f79a___JR_HL 4167_180deg.JPG\u001b[m\n",
      "\t\u001b[31mdeleted:    inputs/cherry_dataset/cherry-leaves/validation/healthy/d1783f85-5cb9-4683-b493-4e9112749f23___JR_HL 9507_flipTB.JPG\u001b[m\n",
      "\t\u001b[31mdeleted:    inputs/cherry_dataset/cherry-leaves/validation/healthy/d1a34701-e731-4002-ba7b-84da2ebf12ad___JR_HL 4148_flipTB.JPG\u001b[m\n",
      "\t\u001b[31mdeleted:    inputs/cherry_dataset/cherry-leaves/validation/healthy/d1c378ef-57e4-4ebc-b3f2-e34f6b2441d2___JR_HL 4098.JPG\u001b[m\n",
      "\t\u001b[31mdeleted:    inputs/cherry_dataset/cherry-leaves/validation/healthy/d259c188-0c17-4199-aac1-5399903f74a3___JR_HL 4100_180deg.JPG\u001b[m\n",
      "\t\u001b[31mdeleted:    inputs/cherry_dataset/cherry-leaves/validation/healthy/d25efe33-b74c-4f03-bc9d-314aab16c2ec___JR_HL 9886 copy.JPG\u001b[m\n",
      "\t\u001b[31mdeleted:    inputs/cherry_dataset/cherry-leaves/validation/healthy/d29070f1-2608-4791-9963-ea1327967df5___JR_HL 9678_flipTB.JPG\u001b[m\n",
      "\t\u001b[31mdeleted:    inputs/cherry_dataset/cherry-leaves/validation/healthy/d88e4a8d-fd1c-41a4-b307-2615ba6783c2___JR_HL 9584_180deg.JPG\u001b[m\n",
      "\t\u001b[31mdeleted:    inputs/cherry_dataset/cherry-leaves/validation/healthy/d963116d-4eec-42a1-82ce-6ef28536b77e___JR_HL 4324_flipTB.JPG\u001b[m\n",
      "\t\u001b[31mdeleted:    inputs/cherry_dataset/cherry-leaves/validation/healthy/d96c8119-e1f1-485d-a92d-6e542ec0ab7b___JR_HL 4017_180deg.JPG\u001b[m\n",
      "\t\u001b[31mdeleted:    inputs/cherry_dataset/cherry-leaves/validation/healthy/da28d492-ed69-4c2f-8359-2242b7e7e3f5___JR_HL 9848_180deg.JPG\u001b[m\n",
      "\t\u001b[31mdeleted:    inputs/cherry_dataset/cherry-leaves/validation/healthy/da28d492-ed69-4c2f-8359-2242b7e7e3f5___JR_HL 9848_flipTB.JPG\u001b[m\n",
      "\t\u001b[31mdeleted:    inputs/cherry_dataset/cherry-leaves/validation/healthy/db32f3c2-3aa7-4ee8-abb1-9ee4ef325b5e___JR_HL 4063_180deg.JPG\u001b[m\n",
      "\t\u001b[31mdeleted:    inputs/cherry_dataset/cherry-leaves/validation/healthy/def8b180-dbf5-43aa-bd15-b762ff48ae09___JR_HL 4201.JPG\u001b[m\n",
      "\t\u001b[31mdeleted:    inputs/cherry_dataset/cherry-leaves/validation/healthy/e0780f68-e0f5-47b8-9d9d-52ec42847103___JR_HL 9599_flipTB.JPG\u001b[m\n",
      "\t\u001b[31mdeleted:    inputs/cherry_dataset/cherry-leaves/validation/healthy/e3a54ee7-bc88-4f86-80e6-1066325ebea0___JR_HL 9596_180deg.JPG\u001b[m\n",
      "\t\u001b[31mdeleted:    inputs/cherry_dataset/cherry-leaves/validation/healthy/e46636be-33bd-465b-9301-5d671facb0ba___JR_HL 9692.JPG\u001b[m\n",
      "\t\u001b[31mdeleted:    inputs/cherry_dataset/cherry-leaves/validation/healthy/e46636be-33bd-465b-9301-5d671facb0ba___JR_HL 9692_180deg.JPG\u001b[m\n",
      "\t\u001b[31mdeleted:    inputs/cherry_dataset/cherry-leaves/validation/healthy/e58b547e-5bad-4ee3-aadb-d8a7e06d3a41___JR_HL 9569.JPG\u001b[m\n",
      "\t\u001b[31mdeleted:    inputs/cherry_dataset/cherry-leaves/validation/healthy/e681961f-9b24-4191-b3e3-2e9a5b48f3b5___JR_HL 9630.JPG\u001b[m\n",
      "\t\u001b[31mdeleted:    inputs/cherry_dataset/cherry-leaves/validation/healthy/e681961f-9b24-4191-b3e3-2e9a5b48f3b5___JR_HL 9630_180deg.JPG\u001b[m\n",
      "\t\u001b[31mdeleted:    inputs/cherry_dataset/cherry-leaves/validation/healthy/e7fe293a-478c-4a78-ab84-ffb06057dc2d___JR_HL 9607_180deg.JPG\u001b[m\n",
      "\t\u001b[31mdeleted:    inputs/cherry_dataset/cherry-leaves/validation/healthy/eaf3b9b2-6372-4333-b1ff-297485cd3656___JR_HL 9565.JPG\u001b[m\n",
      "\t\u001b[31mdeleted:    inputs/cherry_dataset/cherry-leaves/validation/healthy/eafefde7-3a21-4a76-bd73-1d20d6eee535___JR_HL 9628.JPG\u001b[m\n",
      "\t\u001b[31mdeleted:    inputs/cherry_dataset/cherry-leaves/validation/healthy/ebedbe48-ede7-49f1-beb0-6df1375f74d7___JR_HL 4117_flipTB.JPG\u001b[m\n",
      "\t\u001b[31mdeleted:    inputs/cherry_dataset/cherry-leaves/validation/healthy/ec1514ea-278c-4baf-889c-f2d057328abb___JR_HL 9752_180deg.JPG\u001b[m\n",
      "\t\u001b[31mdeleted:    inputs/cherry_dataset/cherry-leaves/validation/powdery_mildew/012b55cf-de7a-483a-9118-0fd8ff012185___FREC_Pwd.M 0423.JPG\u001b[m\n",
      "\t\u001b[31mdeleted:    inputs/cherry_dataset/cherry-leaves/validation/powdery_mildew/02d6c81a-c5dc-4b29-848a-7a0b8c42e5ed___FREC_Pwd.M 4699.JPG\u001b[m\n",
      "\t\u001b[31mdeleted:    inputs/cherry_dataset/cherry-leaves/validation/powdery_mildew/0543e14a-64f1-495c-a33c-a9e2463a2a50___FREC_Pwd.M 4632.JPG\u001b[m\n",
      "\t\u001b[31mdeleted:    inputs/cherry_dataset/cherry-leaves/validation/powdery_mildew/062e83b3-baee-4d36-9b62-6d2a19938027___FREC_Pwd.M 0314_flipLR.JPG\u001b[m\n",
      "\t\u001b[31mdeleted:    inputs/cherry_dataset/cherry-leaves/validation/powdery_mildew/07a5e560-43ac-4141-89c8-562824bb978c___FREC_Pwd.M 4975.JPG\u001b[m\n",
      "\t\u001b[31mdeleted:    inputs/cherry_dataset/cherry-leaves/validation/powdery_mildew/07f63d50-9030-4ae9-91a8-19e1120eb2ab___FREC_Pwd.M 0432_flipLR.JPG\u001b[m\n",
      "\t\u001b[31mdeleted:    inputs/cherry_dataset/cherry-leaves/validation/powdery_mildew/080a25a5-9b62-4fa7-b7fe-44fef2750e0c___FREC_Pwd.M 4673_flipLR.JPG\u001b[m\n",
      "\t\u001b[31mdeleted:    inputs/cherry_dataset/cherry-leaves/validation/powdery_mildew/085f167e-2fef-46e1-8518-ca4e555b59a3___FREC_Pwd.M 4488_flipLR.JPG\u001b[m\n",
      "\t\u001b[31mdeleted:    inputs/cherry_dataset/cherry-leaves/validation/powdery_mildew/09967a6c-dd12-49ff-8ffd-0124677aa228___FREC_Pwd.M 5122_flipLR.JPG\u001b[m\n",
      "\t\u001b[31mdeleted:    inputs/cherry_dataset/cherry-leaves/validation/powdery_mildew/0a283423-3a6d-43a4-92e5-267c8153ca45___FREC_Pwd.M 4921.JPG\u001b[m\n",
      "\t\u001b[31mdeleted:    inputs/cherry_dataset/cherry-leaves/validation/powdery_mildew/0b6b54b6-08ee-4f0c-89d9-b4d184f9decb___FREC_Pwd.M 4981_flipLR.JPG\u001b[m\n",
      "\t\u001b[31mdeleted:    inputs/cherry_dataset/cherry-leaves/validation/powdery_mildew/0b6b9fbc-9c62-4be9-bfc2-ff3126de6458___FREC_Pwd.M 0459.JPG\u001b[m\n",
      "\t\u001b[31mdeleted:    inputs/cherry_dataset/cherry-leaves/validation/powdery_mildew/0be76485-a2bd-4f71-9735-ccec7d440de9___FREC_Pwd.M 0295.JPG\u001b[m\n",
      "\t\u001b[31mdeleted:    inputs/cherry_dataset/cherry-leaves/validation/powdery_mildew/0be76485-a2bd-4f71-9735-ccec7d440de9___FREC_Pwd.M 0295_flipLR.JPG\u001b[m\n",
      "\t\u001b[31mdeleted:    inputs/cherry_dataset/cherry-leaves/validation/powdery_mildew/0c22dfef-7413-4f46-b949-903d238678a3___FREC_Pwd.M 5094_flipLR.JPG\u001b[m\n",
      "\t\u001b[31mdeleted:    inputs/cherry_dataset/cherry-leaves/validation/powdery_mildew/0c477c6e-29a6-44a1-8c99-6f19f864f73e___FREC_Pwd.M 5112_flipLR.JPG\u001b[m\n",
      "\t\u001b[31mdeleted:    inputs/cherry_dataset/cherry-leaves/validation/powdery_mildew/0fe7c76c-cc34-4b75-b254-45c62cbab52a___FREC_Pwd.M 4783.JPG\u001b[m\n",
      "\t\u001b[31mdeleted:    inputs/cherry_dataset/cherry-leaves/validation/powdery_mildew/11257939-ac71-4448-a9b1-939c2200a3a5___FREC_Pwd.M 4682.JPG\u001b[m\n",
      "\t\u001b[31mdeleted:    inputs/cherry_dataset/cherry-leaves/validation/powdery_mildew/11c4276a-f3a7-4a30-ab68-a3ec4d05cab5___FREC_Pwd.M 0369.JPG\u001b[m\n",
      "\t\u001b[31mdeleted:    inputs/cherry_dataset/cherry-leaves/validation/powdery_mildew/12c0e3a2-5b29-4254-afaa-14a5331d04b0___FREC_Pwd.M 0550_flipLR.JPG\u001b[m\n",
      "\t\u001b[31mdeleted:    inputs/cherry_dataset/cherry-leaves/validation/powdery_mildew/15679d43-c95a-4ca4-9189-e08d6b5afbfa___FREC_Pwd.M 0309_flipLR.JPG\u001b[m\n",
      "\t\u001b[31mdeleted:    inputs/cherry_dataset/cherry-leaves/validation/powdery_mildew/17079025-3a59-46d4-83f2-ccff1c099bee___FREC_Pwd.M 0513.JPG\u001b[m\n",
      "\t\u001b[31mdeleted:    inputs/cherry_dataset/cherry-leaves/validation/powdery_mildew/177ebecc-dcdc-4d9f-8949-cb47b4473730___FREC_Pwd.M 4709.JPG\u001b[m\n",
      "\t\u001b[31mdeleted:    inputs/cherry_dataset/cherry-leaves/validation/powdery_mildew/1a6892ee-0f34-475b-b11b-5fc26de6b6d6___FREC_Pwd.M 5041_flipLR.JPG\u001b[m\n",
      "\t\u001b[31mdeleted:    inputs/cherry_dataset/cherry-leaves/validation/powdery_mildew/1bbbffe8-ebdd-497c-b8ed-d90ad1a901e8___FREC_Pwd.M 4755_flipLR.JPG\u001b[m\n",
      "\t\u001b[31mdeleted:    inputs/cherry_dataset/cherry-leaves/validation/powdery_mildew/1ca9be51-dea4-4075-8907-e583f85254b2___FREC_Pwd.M 4850.JPG\u001b[m\n",
      "\t\u001b[31mdeleted:    inputs/cherry_dataset/cherry-leaves/validation/powdery_mildew/1d9a02a1-60f6-430f-aef2-5db080ad7f32___FREC_Pwd.M 4993_flipLR.JPG\u001b[m\n",
      "\t\u001b[31mdeleted:    inputs/cherry_dataset/cherry-leaves/validation/powdery_mildew/1e41d6af-63c2-47c2-8a71-f41e558eadbf___FREC_Pwd.M 4557_flipLR.JPG\u001b[m\n",
      "\t\u001b[31mdeleted:    inputs/cherry_dataset/cherry-leaves/validation/powdery_mildew/20b3dbf2-058a-4b8c-8c1d-202b60da82f6___FREC_Pwd.M 0406_flipLR.JPG\u001b[m\n",
      "\t\u001b[31mdeleted:    inputs/cherry_dataset/cherry-leaves/validation/powdery_mildew/22259775-b4b5-4e64-a56f-b2be4260346d___FREC_Pwd.M 5133_flipLR.JPG\u001b[m\n",
      "\t\u001b[31mdeleted:    inputs/cherry_dataset/cherry-leaves/validation/powdery_mildew/230895ef-e471-4e5a-bde2-38b53729f3ee___FREC_Pwd.M 4598.JPG\u001b[m\n",
      "\t\u001b[31mdeleted:    inputs/cherry_dataset/cherry-leaves/validation/powdery_mildew/262d3414-831c-40a9-bb5b-727985e6d271___FREC_Pwd.M 0573_flipLR.JPG\u001b[m\n",
      "\t\u001b[31mdeleted:    inputs/cherry_dataset/cherry-leaves/validation/powdery_mildew/2802cffd-4801-4479-a0a1-c403c5e021df___FREC_Pwd.M 5154.JPG\u001b[m\n",
      "\t\u001b[31mdeleted:    inputs/cherry_dataset/cherry-leaves/validation/powdery_mildew/29533f16-ecd8-4813-9aef-183c0caff693___FREC_Pwd.M 4855_flipLR.JPG\u001b[m\n",
      "\t\u001b[31mdeleted:    inputs/cherry_dataset/cherry-leaves/validation/powdery_mildew/2c9735ee-ac5b-4312-8956-beadb239456f___FREC_Pwd.M 4527_flipLR.JPG\u001b[m\n",
      "\t\u001b[31mdeleted:    inputs/cherry_dataset/cherry-leaves/validation/powdery_mildew/2d6e93fc-445f-449c-a5f8-c16afaf73e3e___FREC_Pwd.M 4969.JPG\u001b[m\n",
      "\t\u001b[31mdeleted:    inputs/cherry_dataset/cherry-leaves/validation/powdery_mildew/316828ef-b126-4db2-a7d7-91723dff4f53___FREC_Pwd.M 4549_flipLR.JPG\u001b[m\n",
      "\t\u001b[31mdeleted:    inputs/cherry_dataset/cherry-leaves/validation/powdery_mildew/31a54a72-3f8a-4b00-b283-7b8b20d72234___FREC_Pwd.M 4685.JPG\u001b[m\n",
      "\t\u001b[31mdeleted:    inputs/cherry_dataset/cherry-leaves/validation/powdery_mildew/3206d163-a96f-4a2f-b497-3da3c1c79c6f___FREC_Pwd.M 4534_flipLR.JPG\u001b[m\n",
      "\t\u001b[31mdeleted:    inputs/cherry_dataset/cherry-leaves/validation/powdery_mildew/3531b280-cdf5-4983-b83e-21259674d575___FREC_Pwd.M 4907_flipLR.JPG\u001b[m\n",
      "\t\u001b[31mdeleted:    inputs/cherry_dataset/cherry-leaves/validation/powdery_mildew/3566fc56-22cf-4401-9dfe-5a8f0072bf04___FREC_Pwd.M 0491_flipLR.JPG\u001b[m\n",
      "\t\u001b[31mdeleted:    inputs/cherry_dataset/cherry-leaves/validation/powdery_mildew/3632065f-bc6e-486c-9f86-c0d37edbb762___FREC_Pwd.M 4487.JPG\u001b[m\n",
      "\t\u001b[31mdeleted:    inputs/cherry_dataset/cherry-leaves/validation/powdery_mildew/36999b1a-e562-4120-bfb6-5acf1988ebc0___FREC_Pwd.M 0477.JPG\u001b[m\n",
      "\t\u001b[31mdeleted:    inputs/cherry_dataset/cherry-leaves/validation/powdery_mildew/38895ed0-5a4e-4954-8778-9f022267431e___FREC_Pwd.M 4997.JPG\u001b[m\n",
      "\t\u001b[31mdeleted:    inputs/cherry_dataset/cherry-leaves/validation/powdery_mildew/38b9665e-5c2e-4f30-9909-015cf9b3a4ef___FREC_Pwd.M 0481.JPG\u001b[m\n",
      "\t\u001b[31mdeleted:    inputs/cherry_dataset/cherry-leaves/validation/powdery_mildew/38b9665e-5c2e-4f30-9909-015cf9b3a4ef___FREC_Pwd.M 0481_flipLR.JPG\u001b[m\n",
      "\t\u001b[31mdeleted:    inputs/cherry_dataset/cherry-leaves/validation/powdery_mildew/3e259f31-d7a8-4999-b0e6-12c74e98687a___FREC_Pwd.M 4791_flipLR.JPG\u001b[m\n",
      "\t\u001b[31mdeleted:    inputs/cherry_dataset/cherry-leaves/validation/powdery_mildew/42ce6a15-e155-4865-b71b-2516e462dfe6___FREC_Pwd.M 4882.JPG\u001b[m\n",
      "\t\u001b[31mdeleted:    inputs/cherry_dataset/cherry-leaves/validation/powdery_mildew/437415ee-ae8f-4671-bd7c-becdcb15fb03___FREC_Pwd.M 5107.JPG\u001b[m\n",
      "\t\u001b[31mdeleted:    inputs/cherry_dataset/cherry-leaves/validation/powdery_mildew/455bb24d-94f8-4914-8fdc-6e1fd8008e78___FREC_Pwd.M 0342_flipLR.JPG\u001b[m\n",
      "\t\u001b[31mdeleted:    inputs/cherry_dataset/cherry-leaves/validation/powdery_mildew/45738ed0-df8b-4fcb-ac68-8393fcacbfec___FREC_Pwd.M 0498.JPG\u001b[m\n",
      "\t\u001b[31mdeleted:    inputs/cherry_dataset/cherry-leaves/validation/powdery_mildew/474c1d4c-015f-4029-994f-90be5cfb3032___FREC_Pwd.M 4574.JPG\u001b[m\n",
      "\t\u001b[31mdeleted:    inputs/cherry_dataset/cherry-leaves/validation/powdery_mildew/47fcda65-b8ab-458d-9d5a-734ef9fb2aca___FREC_Pwd.M 0455_flipLR.JPG\u001b[m\n",
      "\t\u001b[31mdeleted:    inputs/cherry_dataset/cherry-leaves/validation/powdery_mildew/48175408-eebb-4868-bc02-906a07a93b77___FREC_Pwd.M 0318_flipLR.JPG\u001b[m\n",
      "\t\u001b[31mdeleted:    inputs/cherry_dataset/cherry-leaves/validation/powdery_mildew/485a5bc3-01f2-4fe1-a99d-46315e428e29___FREC_Pwd.M 4462.JPG\u001b[m\n",
      "\t\u001b[31mdeleted:    inputs/cherry_dataset/cherry-leaves/validation/powdery_mildew/4c756b73-5e7d-40ec-9b36-1866c49f2e43___FREC_Pwd.M 5156_flipLR.JPG\u001b[m\n",
      "\t\u001b[31mdeleted:    inputs/cherry_dataset/cherry-leaves/validation/powdery_mildew/4c823529-3235-4215-b13d-e74c16ea761a___FREC_Pwd.M 0331_flipLR.JPG\u001b[m\n",
      "\t\u001b[31mdeleted:    inputs/cherry_dataset/cherry-leaves/validation/powdery_mildew/503409a9-1a72-4cbf-98ab-421139942fd9___FREC_Pwd.M 0296.JPG\u001b[m\n",
      "\t\u001b[31mdeleted:    inputs/cherry_dataset/cherry-leaves/validation/powdery_mildew/50bd37ab-bb09-4edc-ba61-70ace46811c3___FREC_Pwd.M 5015.JPG\u001b[m\n",
      "\t\u001b[31mdeleted:    inputs/cherry_dataset/cherry-leaves/validation/powdery_mildew/525ea422-bb9d-47fd-b3e5-cfabf3e989fd___FREC_Pwd.M 4704_flipLR.JPG\u001b[m\n",
      "\t\u001b[31mdeleted:    inputs/cherry_dataset/cherry-leaves/validation/powdery_mildew/52fdca01-c6e8-4903-a8ff-c9825071e6d2___FREC_Pwd.M 0283.JPG\u001b[m\n",
      "\t\u001b[31mdeleted:    inputs/cherry_dataset/cherry-leaves/validation/powdery_mildew/55ea082c-7aec-4a9a-9181-afad1a342959___FREC_Pwd.M 4492.JPG\u001b[m\n",
      "\t\u001b[31mdeleted:    inputs/cherry_dataset/cherry-leaves/validation/powdery_mildew/563b4d04-b28c-416c-8469-dc0ea1fdafd4___FREC_Pwd.M 5143.JPG\u001b[m\n",
      "\t\u001b[31mdeleted:    inputs/cherry_dataset/cherry-leaves/validation/powdery_mildew/56a9ffe5-ea20-41de-b40f-c6970f54fab4___FREC_Pwd.M 4837_flipLR.JPG\u001b[m\n",
      "\t\u001b[31mdeleted:    inputs/cherry_dataset/cherry-leaves/validation/powdery_mildew/5be6f819-7f95-4078-bc8a-320b79dd5bee___FREC_Pwd.M 4706.JPG\u001b[m\n",
      "\t\u001b[31mdeleted:    inputs/cherry_dataset/cherry-leaves/validation/powdery_mildew/5be6f819-7f95-4078-bc8a-320b79dd5bee___FREC_Pwd.M 4706_flipLR.JPG\u001b[m\n",
      "\t\u001b[31mdeleted:    inputs/cherry_dataset/cherry-leaves/validation/powdery_mildew/5c889ff2-b516-4333-ba98-d6f31b95efa8___FREC_Pwd.M 4620_flipLR.JPG\u001b[m\n",
      "\t\u001b[31mdeleted:    inputs/cherry_dataset/cherry-leaves/validation/powdery_mildew/5ec8805d-ee83-4bcc-a76f-e6bfbeed7a71___FREC_Pwd.M 5158_flipLR.JPG\u001b[m\n",
      "\t\u001b[31mdeleted:    inputs/cherry_dataset/cherry-leaves/validation/powdery_mildew/5f807d2d-f7bc-4c9d-b8bc-74549ddfd47c___FREC_Pwd.M 0582_flipLR.JPG\u001b[m\n",
      "\t\u001b[31mdeleted:    inputs/cherry_dataset/cherry-leaves/validation/powdery_mildew/61800495-73fd-40e8-8ddf-b45cb4670213___FREC_Pwd.M 5074_flipLR.JPG\u001b[m\n",
      "\t\u001b[31mdeleted:    inputs/cherry_dataset/cherry-leaves/validation/powdery_mildew/62a8cd07-b3ec-41c2-853c-d783474206a0___FREC_Pwd.M 4489_flipLR.JPG\u001b[m\n",
      "\t\u001b[31mdeleted:    inputs/cherry_dataset/cherry-leaves/validation/powdery_mildew/63da749f-b051-4b5b-98ad-217a21654171___FREC_Pwd.M 4619_flipLR.JPG\u001b[m\n",
      "\t\u001b[31mdeleted:    inputs/cherry_dataset/cherry-leaves/validation/powdery_mildew/65972389-76f0-4b7a-ac4d-b2e9d6dc8d67___FREC_Pwd.M 4664_flipLR.JPG\u001b[m\n",
      "\t\u001b[31mdeleted:    inputs/cherry_dataset/cherry-leaves/validation/powdery_mildew/683ff209-2360-44c5-bc28-7ae288869562___FREC_Pwd.M 4740.JPG\u001b[m\n",
      "\t\u001b[31mdeleted:    inputs/cherry_dataset/cherry-leaves/validation/powdery_mildew/693a442d-fa07-421e-b8f6-b5db6817b604___FREC_Pwd.M 0532_flipLR.JPG\u001b[m\n",
      "\t\u001b[31mdeleted:    inputs/cherry_dataset/cherry-leaves/validation/powdery_mildew/6a221f6f-ab5e-4c89-960e-b59e0bed138c___FREC_Pwd.M 5134.JPG\u001b[m\n",
      "\t\u001b[31mdeleted:    inputs/cherry_dataset/cherry-leaves/validation/powdery_mildew/6afaaa95-dada-4f34-a0ed-db10134b5a7e___FREC_Pwd.M 5065.JPG\u001b[m\n",
      "\t\u001b[31mdeleted:    inputs/cherry_dataset/cherry-leaves/validation/powdery_mildew/6ce047de-2793-46c0-8013-beb2e67b468c___FREC_Pwd.M 4765_flipLR.JPG\u001b[m\n",
      "\t\u001b[31mdeleted:    inputs/cherry_dataset/cherry-leaves/validation/powdery_mildew/6d3cf9a5-37ab-41e6-b786-4ba6e245560a___FREC_Pwd.M 0521_flipLR.JPG\u001b[m\n",
      "\t\u001b[31mdeleted:    inputs/cherry_dataset/cherry-leaves/validation/powdery_mildew/6d700706-12f6-40a3-b293-699aabce7ba0___FREC_Pwd.M 0288_flipLR.JPG\u001b[m\n",
      "\t\u001b[31mdeleted:    inputs/cherry_dataset/cherry-leaves/validation/powdery_mildew/7103d533-8699-4038-886c-65556c9524fb___FREC_Pwd.M 4668.JPG\u001b[m\n",
      "\t\u001b[31mdeleted:    inputs/cherry_dataset/cherry-leaves/validation/powdery_mildew/7103d533-8699-4038-886c-65556c9524fb___FREC_Pwd.M 4668_flipLR.JPG\u001b[m\n",
      "\t\u001b[31mdeleted:    inputs/cherry_dataset/cherry-leaves/validation/powdery_mildew/77989419-b1f4-4e7e-8e85-48edbd870d31___FREC_Pwd.M 4933_flipLR.JPG\u001b[m\n",
      "\t\u001b[31mdeleted:    inputs/cherry_dataset/cherry-leaves/validation/powdery_mildew/7891f5ee-6f1f-4957-a91c-4ad97b4eb725___FREC_Pwd.M 4720_flipLR.JPG\u001b[m\n",
      "\t\u001b[31mdeleted:    inputs/cherry_dataset/cherry-leaves/validation/powdery_mildew/7a567828-29c4-47e9-8503-66cf4d211f68___FREC_Pwd.M 0352_flipLR.JPG\u001b[m\n",
      "\t\u001b[31mdeleted:    inputs/cherry_dataset/cherry-leaves/validation/powdery_mildew/7aa06c3f-08e1-4de1-9bfb-3f6bdd4c1abd___FREC_Pwd.M 5034_flipLR.JPG\u001b[m\n",
      "\t\u001b[31mdeleted:    inputs/cherry_dataset/cherry-leaves/validation/powdery_mildew/7c01393f-ad4c-4921-93bc-c13e428dd530___FREC_Pwd.M 0241_flipLR.JPG\u001b[m\n",
      "\t\u001b[31mdeleted:    inputs/cherry_dataset/cherry-leaves/validation/powdery_mildew/7c0ec329-c07a-4b09-bff4-516818141170___FREC_Pwd.M 4985.JPG\u001b[m\n",
      "\t\u001b[31mdeleted:    inputs/cherry_dataset/cherry-leaves/validation/powdery_mildew/7e573bd3-4a2d-4da4-a455-1232321bbc87___FREC_Pwd.M 4524.JPG\u001b[m\n",
      "\t\u001b[31mdeleted:    inputs/cherry_dataset/cherry-leaves/validation/powdery_mildew/7fdf71f5-9de9-4a09-b8e4-a20d15c9b9af___FREC_Pwd.M 0417.JPG\u001b[m\n",
      "\t\u001b[31mdeleted:    inputs/cherry_dataset/cherry-leaves/validation/powdery_mildew/81b931e2-acf0-4516-8ab4-e1173411dc60___FREC_Pwd.M 4725.JPG\u001b[m\n",
      "\t\u001b[31mdeleted:    inputs/cherry_dataset/cherry-leaves/validation/powdery_mildew/81cd32df-f7ac-4ffa-bdc2-0a64b9c13792___FREC_Pwd.M 4505_flipLR.JPG\u001b[m\n",
      "\t\u001b[31mdeleted:    inputs/cherry_dataset/cherry-leaves/validation/powdery_mildew/835aa390-f0a2-490f-9d55-ddd320dbd528___FREC_Pwd.M 0452_flipLR.JPG\u001b[m\n",
      "\t\u001b[31mdeleted:    inputs/cherry_dataset/cherry-leaves/validation/powdery_mildew/86991f2d-b1e4-449a-b515-53f0bed5028b___FREC_Pwd.M 4716.JPG\u001b[m\n",
      "\t\u001b[31mdeleted:    inputs/cherry_dataset/cherry-leaves/validation/powdery_mildew/86aceb2d-8be8-4077-b79f-4178dcb970c7___FREC_Pwd.M 5132_flipLR.JPG\u001b[m\n",
      "\t\u001b[31mdeleted:    inputs/cherry_dataset/cherry-leaves/validation/powdery_mildew/87e0db60-4830-436a-ab50-5e5bfa10028f___FREC_Pwd.M 5080.JPG\u001b[m\n",
      "\t\u001b[31mdeleted:    inputs/cherry_dataset/cherry-leaves/validation/powdery_mildew/898cc60e-bae8-41c9-9695-cfafff82bce6___FREC_Pwd.M 5091_flipLR.JPG\u001b[m\n",
      "\t\u001b[31mdeleted:    inputs/cherry_dataset/cherry-leaves/validation/powdery_mildew/8af0a449-b266-4e80-822e-af6033fc537b___FREC_Pwd.M 0545.JPG\u001b[m\n",
      "\t\u001b[31mdeleted:    inputs/cherry_dataset/cherry-leaves/validation/powdery_mildew/8b990f9b-939d-4899-bd73-02cdb6fa251e___FREC_Pwd.M 5105_flipLR.JPG\u001b[m\n",
      "\t\u001b[31mdeleted:    inputs/cherry_dataset/cherry-leaves/validation/powdery_mildew/8d6db97d-d955-4847-abcb-f31c213599da___FREC_Pwd.M 4591_flipLR.JPG\u001b[m\n",
      "\t\u001b[31mdeleted:    inputs/cherry_dataset/cherry-leaves/validation/powdery_mildew/8f3c4634-f3a6-46c6-bb0f-bb67823b6e5d___FREC_Pwd.M 4711_flipLR.JPG\u001b[m\n",
      "\t\u001b[31mdeleted:    inputs/cherry_dataset/cherry-leaves/validation/powdery_mildew/9108bab4-28f5-49d7-96f3-3b7afc0a38f8___FREC_Pwd.M 4727_flipLR.JPG\u001b[m\n",
      "\t\u001b[31mdeleted:    inputs/cherry_dataset/cherry-leaves/validation/powdery_mildew/91138612-59e9-4e5c-9eeb-c424f7e1d431___FREC_Pwd.M 5121_flipLR.JPG\u001b[m\n",
      "\t\u001b[31mdeleted:    inputs/cherry_dataset/cherry-leaves/validation/powdery_mildew/930823eb-ada1-49cf-873b-49574680c1f5___FREC_Pwd.M 4601.JPG\u001b[m\n",
      "\t\u001b[31mdeleted:    inputs/cherry_dataset/cherry-leaves/validation/powdery_mildew/95dbe9f1-ea94-4b3b-9ae4-5ee670226eee___FREC_Pwd.M 4829.JPG\u001b[m\n",
      "\t\u001b[31mdeleted:    inputs/cherry_dataset/cherry-leaves/validation/powdery_mildew/987c1e12-4c60-42e9-8ba7-4ba0a08c849a___FREC_Pwd.M 4491.JPG\u001b[m\n",
      "\t\u001b[31mdeleted:    inputs/cherry_dataset/cherry-leaves/validation/powdery_mildew/9d9c0c1a-fd2b-4563-b5c6-e393e4fd8b09___FREC_Pwd.M 4803.JPG\u001b[m\n",
      "\t\u001b[31mdeleted:    inputs/cherry_dataset/cherry-leaves/validation/powdery_mildew/9f1b8936-8c75-4b99-aac1-5e716edd6d9c___FREC_Pwd.M 4672_flipLR.JPG\u001b[m\n",
      "\t\u001b[31mdeleted:    inputs/cherry_dataset/cherry-leaves/validation/powdery_mildew/a0e5fb1a-b456-4f0c-9fa2-e7f9976c72c9___FREC_Pwd.M 0332_flipLR.JPG\u001b[m\n",
      "\t\u001b[31mdeleted:    inputs/cherry_dataset/cherry-leaves/validation/powdery_mildew/a1b8deb6-ef70-4d87-8fea-188a2d84b240___FREC_Pwd.M 5069_flipLR.JPG\u001b[m\n",
      "\t\u001b[31mdeleted:    inputs/cherry_dataset/cherry-leaves/validation/powdery_mildew/a2730e42-4b0b-4155-85be-09ebf839badd___FREC_Pwd.M 0346_flipLR.JPG\u001b[m\n",
      "\t\u001b[31mdeleted:    inputs/cherry_dataset/cherry-leaves/validation/powdery_mildew/a3591bf9-0311-4c54-88de-002e18a55e32___FREC_Pwd.M 4565_flipLR.JPG\u001b[m\n",
      "\t\u001b[31mdeleted:    inputs/cherry_dataset/cherry-leaves/validation/powdery_mildew/a5fa9413-8503-4da7-8845-345402c4004f___FREC_Pwd.M 4861_flipLR.JPG\u001b[m\n",
      "\t\u001b[31mdeleted:    inputs/cherry_dataset/cherry-leaves/validation/powdery_mildew/a6421f2e-fa46-45a6-9f1b-64b60cde096a___FREC_Pwd.M 4743_flipLR.JPG\u001b[m\n",
      "\t\u001b[31mdeleted:    inputs/cherry_dataset/cherry-leaves/validation/powdery_mildew/a726864c-cd52-4dde-818b-7b79b6ce2f0e___FREC_Pwd.M 4915.JPG\u001b[m\n",
      "\t\u001b[31mdeleted:    inputs/cherry_dataset/cherry-leaves/validation/powdery_mildew/a7b75c15-4118-4d7f-94d5-e859ace0cbf4___FREC_Pwd.M 5050_flipLR.JPG\u001b[m\n",
      "\t\u001b[31mdeleted:    inputs/cherry_dataset/cherry-leaves/validation/powdery_mildew/a80d12ff-1263-4196-87eb-1634495fc7a7___FREC_Pwd.M 0382_flipLR.JPG\u001b[m\n",
      "\t\u001b[31mdeleted:    inputs/cherry_dataset/cherry-leaves/validation/powdery_mildew/a90c7766-8136-4a31-b5b3-c20ef2927196___FREC_Pwd.M 4977_flipLR.JPG\u001b[m\n",
      "\t\u001b[31mdeleted:    inputs/cherry_dataset/cherry-leaves/validation/powdery_mildew/aab15e82-2539-4798-a755-be6442a96f83___FREC_Pwd.M 0529.JPG\u001b[m\n",
      "\t\u001b[31mdeleted:    inputs/cherry_dataset/cherry-leaves/validation/powdery_mildew/ab366455-8a96-4984-837a-cde38c0833c4___FREC_Pwd.M 4754_flipLR.JPG\u001b[m\n",
      "\t\u001b[31mdeleted:    inputs/cherry_dataset/cherry-leaves/validation/powdery_mildew/ab77f14b-ac04-4420-9b95-3758c1840c53___FREC_Pwd.M 5026.JPG\u001b[m\n",
      "\t\u001b[31mdeleted:    inputs/cherry_dataset/cherry-leaves/validation/powdery_mildew/ac3e6824-a60e-4c8f-a844-4e97abc983a7___FREC_Pwd.M 4801_flipLR.JPG\u001b[m\n",
      "\t\u001b[31mdeleted:    inputs/cherry_dataset/cherry-leaves/validation/powdery_mildew/af44d03e-a4d9-44be-ab19-a7f494e4d132___FREC_Pwd.M 0517_flipLR.JPG\u001b[m\n",
      "\t\u001b[31mdeleted:    inputs/cherry_dataset/cherry-leaves/validation/powdery_mildew/b09e4052-bc5a-4f9a-a2f0-c27698a94b50___FREC_Pwd.M 0451_flipLR.JPG\u001b[m\n",
      "\t\u001b[31mdeleted:    inputs/cherry_dataset/cherry-leaves/validation/powdery_mildew/b2c8b5a5-86a8-4039-b042-6dc3980c57b3___FREC_Pwd.M 0551.JPG\u001b[m\n",
      "\t\u001b[31mdeleted:    inputs/cherry_dataset/cherry-leaves/validation/powdery_mildew/b42d85e1-0707-4692-93a1-74b0465ef2ef___FREC_Pwd.M 4468_flipLR.JPG\u001b[m\n",
      "\t\u001b[31mdeleted:    inputs/cherry_dataset/cherry-leaves/validation/powdery_mildew/b67c84bb-04cb-41f3-bb91-0f7f32fc5f1e___FREC_Pwd.M 5035.JPG\u001b[m\n",
      "\t\u001b[31mdeleted:    inputs/cherry_dataset/cherry-leaves/validation/powdery_mildew/b77f5498-2263-4819-b71a-ac04234ab1bf___FREC_Pwd.M 4630.JPG\u001b[m\n",
      "\t\u001b[31mdeleted:    inputs/cherry_dataset/cherry-leaves/validation/powdery_mildew/b97fc191-9b3b-4c4c-b857-eca7767c033a___FREC_Pwd.M 4816.JPG\u001b[m\n",
      "\t\u001b[31mdeleted:    inputs/cherry_dataset/cherry-leaves/validation/powdery_mildew/ba70e078-ab08-4f7e-ae75-7df860e52a7f___FREC_Pwd.M 5166.JPG\u001b[m\n",
      "\t\u001b[31mdeleted:    inputs/cherry_dataset/cherry-leaves/validation/powdery_mildew/bb998de5-3d79-46c7-ad23-2dffc9a8037d___FREC_Pwd.M 4826_flipLR.JPG\u001b[m\n",
      "\t\u001b[31mdeleted:    inputs/cherry_dataset/cherry-leaves/validation/powdery_mildew/be5c9aa3-60ea-4bc7-b9a0-12febd96aa97___FREC_Pwd.M 4845_flipLR.JPG\u001b[m\n",
      "\t\u001b[31mdeleted:    inputs/cherry_dataset/cherry-leaves/validation/powdery_mildew/c28e81c2-a058-4f06-935c-80ba96dd7d4c___FREC_Pwd.M 0534.JPG\u001b[m\n",
      "\t\u001b[31mdeleted:    inputs/cherry_dataset/cherry-leaves/validation/powdery_mildew/c42f244f-92a2-4800-b6ae-6d623b54f55f___FREC_Pwd.M 4551_flipLR.JPG\u001b[m\n",
      "\t\u001b[31mdeleted:    inputs/cherry_dataset/cherry-leaves/validation/powdery_mildew/c4318f33-d75f-421e-a2f8-68afdcc678b9___FREC_Pwd.M 0394_flipLR.JPG\u001b[m\n",
      "\t\u001b[31mdeleted:    inputs/cherry_dataset/cherry-leaves/validation/powdery_mildew/c46dfc73-a21b-4542-a4a1-18c15792d700___FREC_Pwd.M 4996.JPG\u001b[m\n",
      "\t\u001b[31mdeleted:    inputs/cherry_dataset/cherry-leaves/validation/powdery_mildew/c7a8f6b2-2721-4c65-81ea-fc87fc8f3a27___FREC_Pwd.M 0445.JPG\u001b[m\n",
      "\t\u001b[31mdeleted:    inputs/cherry_dataset/cherry-leaves/validation/powdery_mildew/c7f47cac-6806-4522-8e64-b633250cedfc___FREC_Pwd.M 5164.JPG\u001b[m\n",
      "\t\u001b[31mdeleted:    inputs/cherry_dataset/cherry-leaves/validation/powdery_mildew/c984c421-82d1-443e-9a92-ee39009ce2b2___FREC_Pwd.M 4681.JPG\u001b[m\n",
      "\t\u001b[31mdeleted:    inputs/cherry_dataset/cherry-leaves/validation/powdery_mildew/cb149e1b-f02f-4948-9058-ab06a9b7ab72___FREC_Pwd.M 4899_flipLR.JPG\u001b[m\n",
      "\t\u001b[31mdeleted:    inputs/cherry_dataset/cherry-leaves/validation/powdery_mildew/cd107c83-8873-495c-9203-3b7179647522___FREC_Pwd.M 4747.JPG\u001b[m\n",
      "\t\u001b[31mdeleted:    inputs/cherry_dataset/cherry-leaves/validation/powdery_mildew/cd612504-a6ca-484c-98fb-7d805b84f09c___FREC_Pwd.M 4856_flipLR.JPG\u001b[m\n",
      "\t\u001b[31mdeleted:    inputs/cherry_dataset/cherry-leaves/validation/powdery_mildew/ce5efd4e-f2cb-47ac-9544-69291614286d___FREC_Pwd.M 5073_flipLR.JPG\u001b[m\n",
      "\t\u001b[31mdeleted:    inputs/cherry_dataset/cherry-leaves/validation/powdery_mildew/cfe1fe90-4871-461c-b5b3-68df83336004___FREC_Pwd.M 4918.JPG\u001b[m\n",
      "\t\u001b[31mdeleted:    inputs/cherry_dataset/cherry-leaves/validation/powdery_mildew/d016bc3b-b8e8-4012-8403-3b5cd92a91bf___FREC_Pwd.M 5023_flipLR.JPG\u001b[m\n",
      "\t\u001b[31mdeleted:    inputs/cherry_dataset/cherry-leaves/validation/powdery_mildew/d13c2c1a-618f-4dcc-9708-545005602e36___FREC_Pwd.M 4641_flipLR.JPG\u001b[m\n",
      "\t\u001b[31mdeleted:    inputs/cherry_dataset/cherry-leaves/validation/powdery_mildew/d297097e-4fbb-4133-b8d8-eb3a2d9acfc2___FREC_Pwd.M 4609_flipLR.JPG\u001b[m\n",
      "\t\u001b[31mdeleted:    inputs/cherry_dataset/cherry-leaves/validation/powdery_mildew/d53e4b45-41d9-4cea-9f79-80e99bac6a95___FREC_Pwd.M 4948_flipLR.JPG\u001b[m\n",
      "\t\u001b[31mdeleted:    inputs/cherry_dataset/cherry-leaves/validation/powdery_mildew/d54fcec0-b210-4ab6-8b53-2e33ec81ea36___FREC_Pwd.M 5093_flipLR.JPG\u001b[m\n",
      "\t\u001b[31mdeleted:    inputs/cherry_dataset/cherry-leaves/validation/powdery_mildew/d5510570-6f71-4af0-9fda-07eee0e55442___FREC_Pwd.M 0333_flipLR.JPG\u001b[m\n",
      "\t\u001b[31mdeleted:    inputs/cherry_dataset/cherry-leaves/validation/powdery_mildew/d6ee77c1-4959-4d8f-9f4c-bd797de9bf5d___FREC_Pwd.M 5064_flipLR.JPG\u001b[m\n",
      "\t\u001b[31mdeleted:    inputs/cherry_dataset/cherry-leaves/validation/powdery_mildew/d7e1d949-4c49-43c5-8db1-a65f2ed18661___FREC_Pwd.M 4469.JPG\u001b[m\n",
      "\t\u001b[31mdeleted:    inputs/cherry_dataset/cherry-leaves/validation/powdery_mildew/d82e44ba-e838-447c-91b7-e7a20aba12aa___FREC_Pwd.M 4667_flipLR.JPG\u001b[m\n",
      "\t\u001b[31mdeleted:    inputs/cherry_dataset/cherry-leaves/validation/powdery_mildew/d93937f9-8e84-4fcb-8b72-1b1199db7d6e___FREC_Pwd.M 0546.JPG\u001b[m\n",
      "\t\u001b[31mdeleted:    inputs/cherry_dataset/cherry-leaves/validation/powdery_mildew/d9df7ba0-fe57-45f3-871a-9d1c87117d2e___FREC_Pwd.M 4648.JPG\u001b[m\n",
      "\t\u001b[31mdeleted:    inputs/cherry_dataset/cherry-leaves/validation/powdery_mildew/db73697a-1432-44af-85a7-f0f770d09616___FREC_Pwd.M 4922.JPG\u001b[m\n",
      "\t\u001b[31mdeleted:    inputs/cherry_dataset/cherry-leaves/validation/powdery_mildew/dbd81452-171b-4aa4-a911-e7908687f06c___FREC_Pwd.M 5049.JPG\u001b[m\n",
      "\t\u001b[31mdeleted:    inputs/cherry_dataset/cherry-leaves/validation/powdery_mildew/dc8bb3fa-1be2-4cb3-8f92-a9d3a9bb5af9___FREC_Pwd.M 5114_flipLR.JPG\u001b[m\n",
      "\t\u001b[31mdeleted:    inputs/cherry_dataset/cherry-leaves/validation/powdery_mildew/df8ae90b-7bb7-4e17-bc88-20c58ea9e82b___FREC_Pwd.M 4696_flipLR.JPG\u001b[m\n",
      "\t\u001b[31mdeleted:    inputs/cherry_dataset/cherry-leaves/validation/powdery_mildew/e1c9896e-a3a6-401a-b3fd-325b8052365b___FREC_Pwd.M 0376.JPG\u001b[m\n",
      "\t\u001b[31mdeleted:    inputs/cherry_dataset/cherry-leaves/validation/powdery_mildew/e1ea1451-0d15-4b27-93c0-9d20fd15d396___FREC_Pwd.M 0400_flipLR.JPG\u001b[m\n",
      "\t\u001b[31mdeleted:    inputs/cherry_dataset/cherry-leaves/validation/powdery_mildew/e394c1ec-ade0-4481-a0ae-17fea0f9a8b3___FREC_Pwd.M 4962.JPG\u001b[m\n",
      "\t\u001b[31mdeleted:    inputs/cherry_dataset/cherry-leaves/validation/powdery_mildew/e3b59f01-3677-4616-af6c-d026b9e0e6cf___FREC_Pwd.M 0398_flipLR.JPG\u001b[m\n",
      "\t\u001b[31mdeleted:    inputs/cherry_dataset/cherry-leaves/validation/powdery_mildew/e6992d5a-59ab-432b-8eff-f34f5c6abf1e___FREC_Pwd.M 0553_flipLR.JPG\u001b[m\n",
      "\t\u001b[31mdeleted:    inputs/cherry_dataset/cherry-leaves/validation/powdery_mildew/e6cff815-c0e5-4a03-b0b1-baada088b7e9___FREC_Pwd.M 4960_flipLR.JPG\u001b[m\n",
      "\t\u001b[31mdeleted:    inputs/cherry_dataset/cherry-leaves/validation/powdery_mildew/e6ed3334-ab39-40cd-ae6e-cb1b9a5e999d___FREC_Pwd.M 0586.JPG\u001b[m\n",
      "\t\u001b[31mdeleted:    inputs/cherry_dataset/cherry-leaves/validation/powdery_mildew/e7fe2094-95a1-40fe-ba1d-687ab0756edb___FREC_Pwd.M 0541_flipLR.JPG\u001b[m\n",
      "\t\u001b[31mdeleted:    inputs/cherry_dataset/cherry-leaves/validation/powdery_mildew/ea7682b0-f644-40a7-95b1-83cb41265907___FREC_Pwd.M 4872.JPG\u001b[m\n",
      "\t\u001b[31mdeleted:    inputs/cherry_dataset/cherry-leaves/validation/powdery_mildew/eb002010-f84f-4b0e-a005-f09c77ad262c___FREC_Pwd.M 0478_flipLR.JPG\u001b[m\n",
      "\t\u001b[31mdeleted:    inputs/cherry_dataset/cherry-leaves/validation/powdery_mildew/ecd65b68-3e4d-4c5c-9498-9f1e78d4e45d___FREC_Pwd.M 5067.JPG\u001b[m\n",
      "\t\u001b[31mdeleted:    inputs/cherry_dataset/cherry-leaves/validation/powdery_mildew/ee6035b6-8ac1-49db-8ea5-079ccea4790d___FREC_Pwd.M 4590.JPG\u001b[m\n",
      "\t\u001b[31mdeleted:    inputs/cherry_dataset/cherry-leaves/validation/powdery_mildew/ef0039cb-e261-4019-86a1-db6287829885___FREC_Pwd.M 0276.JPG\u001b[m\n",
      "\t\u001b[31mdeleted:    inputs/cherry_dataset/cherry-leaves/validation/powdery_mildew/ef0039cb-e261-4019-86a1-db6287829885___FREC_Pwd.M 0276_flipLR.JPG\u001b[m\n",
      "\t\u001b[31mdeleted:    inputs/cherry_dataset/cherry-leaves/validation/powdery_mildew/f0318151-9783-43f4-a1f1-d8ec05e565df___FREC_Pwd.M 0315.JPG\u001b[m\n",
      "\t\u001b[31mdeleted:    inputs/cherry_dataset/cherry-leaves/validation/powdery_mildew/f28e7be1-c3ac-4c7b-bc30-94b8985a9614___FREC_Pwd.M 4999_flipLR.JPG\u001b[m\n",
      "\t\u001b[31mdeleted:    inputs/cherry_dataset/cherry-leaves/validation/powdery_mildew/f310a75d-83cb-49db-9df0-b88971930485___FREC_Pwd.M 5130.JPG\u001b[m\n",
      "\t\u001b[31mdeleted:    inputs/cherry_dataset/cherry-leaves/validation/powdery_mildew/f34e2369-095d-45a6-8407-0272da9aeaef___FREC_Pwd.M 4920.JPG\u001b[m\n",
      "\t\u001b[31mdeleted:    inputs/cherry_dataset/cherry-leaves/validation/powdery_mildew/f42d7be6-3df3-4590-8941-de9634a81215___FREC_Pwd.M 4612.JPG\u001b[m\n",
      "\t\u001b[31mdeleted:    inputs/cherry_dataset/cherry-leaves/validation/powdery_mildew/f50f0410-32ed-4012-85ed-9a1124cf6014___FREC_Pwd.M 4688.JPG\u001b[m\n",
      "\t\u001b[31mdeleted:    inputs/cherry_dataset/cherry-leaves/validation/powdery_mildew/f5e8d671-c487-4253-993f-42bd260e615c___FREC_Pwd.M 4958.JPG\u001b[m\n",
      "\t\u001b[31mdeleted:    inputs/cherry_dataset/cherry-leaves/validation/powdery_mildew/f66cd543-8b6b-4a13-9581-6a57dd83032e___FREC_Pwd.M 0571_flipLR.JPG\u001b[m\n",
      "\t\u001b[31mdeleted:    inputs/cherry_dataset/cherry-leaves/validation/powdery_mildew/f67d7a09-517c-460f-9c75-aa891586a58b___FREC_Pwd.M 4909.JPG\u001b[m\n",
      "\t\u001b[31mdeleted:    inputs/cherry_dataset/cherry-leaves/validation/powdery_mildew/f78507be-2f2a-456e-bf8b-4fb02409a4d8___FREC_Pwd.M 5071.JPG\u001b[m\n",
      "\t\u001b[31mdeleted:    inputs/cherry_dataset/cherry-leaves/validation/powdery_mildew/f9699ceb-b9c3-43f5-8968-d6afa32a0153___FREC_Pwd.M 5160.JPG\u001b[m\n",
      "\t\u001b[31mdeleted:    inputs/cherry_dataset/cherry-leaves/validation/powdery_mildew/f9699ceb-b9c3-43f5-8968-d6afa32a0153___FREC_Pwd.M 5160_flipLR.JPG\u001b[m\n",
      "\t\u001b[31mdeleted:    inputs/cherry_dataset/cherry-leaves/validation/powdery_mildew/fc970b2a-101f-46d8-ba74-72fc03d0c85c___FREC_Pwd.M 4634.JPG\u001b[m\n",
      "\t\u001b[31mdeleted:    inputs/cherry_dataset/cherry-leaves/validation/powdery_mildew/fff3ae4b-4bce-4b7a-b53c-98c482d9d8fd___FREC_Pwd.M 0414.JPG\u001b[m\n",
      "\t\u001b[31mdeleted:    jupyter_notebooks/Notebook_Template.ipynb\u001b[m\n",
      "\n",
      "Untracked files:\n",
      "  (use \"git add <file>...\" to include in what will be committed)\n",
      "\t\u001b[31mjupyter_notebooks/.ipynb_checkpoints/\u001b[m\n",
      "\t\u001b[31mjupyter_notebooks/Data collection Note_book.ipynb\u001b[m\n",
      "\t\u001b[31mjupyter_notebooks/Data visualization note_book.ipynb\u001b[m\n",
      "\t\u001b[31mjupyter_notebooks/Modeling and Evaluation note_note.ipynb\u001b[m\n",
      "\n",
      "no changes added to commit (use \"git add\" and/or \"git commit -a\")\n"
     ]
    }
   ],
   "source": [
    "!git commit -m \" Data collection and preparation\""
   ]
  },
  {
   "cell_type": "code",
   "execution_count": 43,
   "metadata": {},
   "outputs": [
    {
     "name": "stdout",
     "output_type": "stream",
     "text": [
      "Everything up-to-date\n"
     ]
    }
   ],
   "source": [
    "!git push"
   ]
  },
  {
   "cell_type": "code",
   "execution_count": null,
   "metadata": {},
   "outputs": [],
   "source": []
  }
 ],
 "metadata": {
  "accelerator": "GPU",
  "colab": {
   "name": "Data Practitioner Jupyter Notebook.ipynb",
   "provenance": [],
   "toc_visible": true
  },
  "interpreter": {
   "hash": "8b8334dab9339717f727a1deaf837b322d7a41c20d15cc86be99a8e69ceec8ce"
  },
  "kernelspec": {
   "display_name": "Python 3 (ipykernel)",
   "language": "python",
   "name": "python3"
  },
  "language_info": {
   "codemirror_mode": {
    "name": "ipython",
    "version": 3
   },
   "file_extension": ".py",
   "mimetype": "text/x-python",
   "name": "python",
   "nbconvert_exporter": "python",
   "pygments_lexer": "ipython3",
   "version": "3.8.12"
  }
 },
 "nbformat": 4,
 "nbformat_minor": 4
}
